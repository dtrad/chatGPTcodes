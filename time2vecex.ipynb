{
 "cells": [
  {
   "cell_type": "code",
   "execution_count": 5,
   "metadata": {},
   "outputs": [],
   "source": [
    "import tensorflow as tf\n",
    "from tensorflow.keras.layers import Input, Dense\n",
    "from tensorflow.keras.models import Model\n",
    "from tensorflow.keras.optimizers import Adam"
   ]
  },
  {
   "cell_type": "code",
   "execution_count": 10,
   "metadata": {},
   "outputs": [],
   "source": [
    "class Time2Vec(tf.keras.layers.Layer):\n",
    "    def __init__(self, output_dim, **kwargs):\n",
    "        super(Time2Vec, self).__init__(**kwargs)\n",
    "        self.output_dim = output_dim\n",
    "\n",
    "    def build(self, input_shape):\n",
    "        self.w = self.add_weight(shape=(2, self.output_dim),  # Modified shape to (2, output_dim)\n",
    "                                 initializer='uniform',\n",
    "                                 trainable=True)\n",
    "        self.b = self.add_weight(shape=(self.output_dim,),  # Removed input_shape[1]\n",
    "                                 initializer='zeros',\n",
    "                                 trainable=True)\n",
    "        super(Time2Vec, self).build(input_shape)\n",
    "\n",
    "    def call(self, x):\n",
    "        time_values = tf.math.floormod(x[:, 0], 24)  # Assuming time values range from 0 to 24\n",
    "        sin_trans = tf.math.sin(tf.matmul(tf.ones_like(time_values), self.w) + self.b)  # Modified tf.matmul input\n",
    "        cos_trans = tf.math.cos(tf.matmul(tf.ones_like(time_values), self.w) + self.b)  # Modified tf.matmul input\n",
    "        return tf.concat([sin_trans, cos_trans], axis=-1)\n",
    "\n",
    "# Rest of the code remains the same\n"
   ]
  },
  {
   "cell_type": "code",
   "execution_count": 3,
   "metadata": {},
   "outputs": [],
   "source": [
    "class Time2Vec(tf.keras.layers.Layer):\n",
    "    def __init__(self, output_dim, **kwargs):\n",
    "        super(Time2Vec, self).__init__(**kwargs)\n",
    "        self.output_dim = output_dim\n",
    "\n",
    "    def build(self, input_shape):\n",
    "        self.w = self.add_weight(shape=(input_shape[1], self.output_dim),\n",
    "                                 initializer='uniform',\n",
    "                                 trainable=True)\n",
    "        self.b = self.add_weight(shape=(input_shape[1],),\n",
    "                                 initializer='zeros',\n",
    "                                 trainable=True)\n",
    "        super(Time2Vec, self).build(input_shape)\n",
    "\n",
    "    def call(self, x):\n",
    "        time_values = tf.math.floormod(x[:, 0], 24)  # Assuming time values range from 0 to 24\n",
    "        sin_trans = tf.math.sin(tf.matmul(time_values, self.w) + self.b)\n",
    "        cos_trans = tf.math.cos(tf.matmul(time_values, self.w) + self.b)\n",
    "        return tf.concat([sin_trans, cos_trans], axis=-1)"
   ]
  },
  {
   "cell_type": "code",
   "execution_count": 11,
   "metadata": {},
   "outputs": [
    {
     "ename": "ValueError",
     "evalue": "Exception encountered when calling layer \"time2_vec_4\" (type Time2Vec).\n\nin user code:\n\n    File \"/tmp/ipykernel_32545/2535887131.py\", line 17, in call  *\n        sin_trans = tf.math.sin(tf.matmul(tf.ones_like(time_values), self.w) + self.b)  # Modified tf.matmul input\n\n    ValueError: Shape must be rank 2 but is rank 1 for '{{node time2_vec_4/MatMul}} = MatMul[T=DT_FLOAT, transpose_a=false, transpose_b=false](time2_vec_4/ones_like, time2_vec_4/MatMul/ReadVariableOp)' with input shapes: [?], [2,32].\n\n\nCall arguments received by layer \"time2_vec_4\" (type Time2Vec):\n  • x=tf.Tensor(shape=(None, 1), dtype=float32)",
     "output_type": "error",
     "traceback": [
      "\u001b[0;31m---------------------------------------------------------------------------\u001b[0m",
      "\u001b[0;31mValueError\u001b[0m                                Traceback (most recent call last)",
      "Cell \u001b[0;32mIn[11], line 5\u001b[0m\n\u001b[1;32m      3\u001b[0m output_dim \u001b[39m=\u001b[39m \u001b[39m32\u001b[39m  \u001b[39m# Dimension of the Time2Vec output\u001b[39;00m\n\u001b[1;32m      4\u001b[0m inputs \u001b[39m=\u001b[39m Input(shape\u001b[39m=\u001b[39minput_shape)\n\u001b[0;32m----> 5\u001b[0m time2vec \u001b[39m=\u001b[39m Time2Vec(output_dim)(inputs)\n",
      "File \u001b[0;32m~/anaconda3/envs/tfgpu/lib/python3.9/site-packages/keras/utils/traceback_utils.py:70\u001b[0m, in \u001b[0;36mfilter_traceback.<locals>.error_handler\u001b[0;34m(*args, **kwargs)\u001b[0m\n\u001b[1;32m     67\u001b[0m     filtered_tb \u001b[39m=\u001b[39m _process_traceback_frames(e\u001b[39m.\u001b[39m__traceback__)\n\u001b[1;32m     68\u001b[0m     \u001b[39m# To get the full stack trace, call:\u001b[39;00m\n\u001b[1;32m     69\u001b[0m     \u001b[39m# `tf.debugging.disable_traceback_filtering()`\u001b[39;00m\n\u001b[0;32m---> 70\u001b[0m     \u001b[39mraise\u001b[39;00m e\u001b[39m.\u001b[39mwith_traceback(filtered_tb) \u001b[39mfrom\u001b[39;00m \u001b[39mNone\u001b[39m\n\u001b[1;32m     71\u001b[0m \u001b[39mfinally\u001b[39;00m:\n\u001b[1;32m     72\u001b[0m     \u001b[39mdel\u001b[39;00m filtered_tb\n",
      "File \u001b[0;32m/tmp/__autograph_generated_files7fz3v41.py:11\u001b[0m, in \u001b[0;36mouter_factory.<locals>.inner_factory.<locals>.tf__call\u001b[0;34m(self, x)\u001b[0m\n\u001b[1;32m      9\u001b[0m retval_ \u001b[39m=\u001b[39m ag__\u001b[39m.\u001b[39mUndefinedReturnValue()\n\u001b[1;32m     10\u001b[0m time_values \u001b[39m=\u001b[39m ag__\u001b[39m.\u001b[39mconverted_call(ag__\u001b[39m.\u001b[39mld(tf)\u001b[39m.\u001b[39mmath\u001b[39m.\u001b[39mfloormod, (ag__\u001b[39m.\u001b[39mld(x)[:, \u001b[39m0\u001b[39m], \u001b[39m24\u001b[39m), \u001b[39mNone\u001b[39;00m, fscope)\n\u001b[0;32m---> 11\u001b[0m sin_trans \u001b[39m=\u001b[39m ag__\u001b[39m.\u001b[39mconverted_call(ag__\u001b[39m.\u001b[39mld(tf)\u001b[39m.\u001b[39mmath\u001b[39m.\u001b[39msin, (ag__\u001b[39m.\u001b[39mconverted_call(ag__\u001b[39m.\u001b[39mld(tf)\u001b[39m.\u001b[39mmatmul, (ag__\u001b[39m.\u001b[39mconverted_call(ag__\u001b[39m.\u001b[39mld(tf)\u001b[39m.\u001b[39mones_like, (ag__\u001b[39m.\u001b[39mld(time_values),), \u001b[39mNone\u001b[39;00m, fscope), ag__\u001b[39m.\u001b[39mld(\u001b[39mself\u001b[39m)\u001b[39m.\u001b[39mw), \u001b[39mNone\u001b[39;00m, fscope) \u001b[39m+\u001b[39m ag__\u001b[39m.\u001b[39mld(\u001b[39mself\u001b[39m)\u001b[39m.\u001b[39mb,), \u001b[39mNone\u001b[39;00m, fscope)\n\u001b[1;32m     12\u001b[0m cos_trans \u001b[39m=\u001b[39m ag__\u001b[39m.\u001b[39mconverted_call(ag__\u001b[39m.\u001b[39mld(tf)\u001b[39m.\u001b[39mmath\u001b[39m.\u001b[39mcos, (ag__\u001b[39m.\u001b[39mconverted_call(ag__\u001b[39m.\u001b[39mld(tf)\u001b[39m.\u001b[39mmatmul, (ag__\u001b[39m.\u001b[39mconverted_call(ag__\u001b[39m.\u001b[39mld(tf)\u001b[39m.\u001b[39mones_like, (ag__\u001b[39m.\u001b[39mld(time_values),), \u001b[39mNone\u001b[39;00m, fscope), ag__\u001b[39m.\u001b[39mld(\u001b[39mself\u001b[39m)\u001b[39m.\u001b[39mw), \u001b[39mNone\u001b[39;00m, fscope) \u001b[39m+\u001b[39m ag__\u001b[39m.\u001b[39mld(\u001b[39mself\u001b[39m)\u001b[39m.\u001b[39mb,), \u001b[39mNone\u001b[39;00m, fscope)\n\u001b[1;32m     13\u001b[0m \u001b[39mtry\u001b[39;00m:\n",
      "\u001b[0;31mValueError\u001b[0m: Exception encountered when calling layer \"time2_vec_4\" (type Time2Vec).\n\nin user code:\n\n    File \"/tmp/ipykernel_32545/2535887131.py\", line 17, in call  *\n        sin_trans = tf.math.sin(tf.matmul(tf.ones_like(time_values), self.w) + self.b)  # Modified tf.matmul input\n\n    ValueError: Shape must be rank 2 but is rank 1 for '{{node time2_vec_4/MatMul}} = MatMul[T=DT_FLOAT, transpose_a=false, transpose_b=false](time2_vec_4/ones_like, time2_vec_4/MatMul/ReadVariableOp)' with input shapes: [?], [2,32].\n\n\nCall arguments received by layer \"time2_vec_4\" (type Time2Vec):\n  • x=tf.Tensor(shape=(None, 1), dtype=float32)"
     ]
    }
   ],
   "source": [
    "# Define an example model with Time2Vec layer\n",
    "input_shape = (1,)  # Single time value as input\n",
    "output_dim = 32  # Dimension of the Time2Vec output\n",
    "inputs = Input(shape=input_shape)\n",
    "time2vec = Time2Vec(output_dim)(inputs)"
   ]
  },
  {
   "cell_type": "code",
   "execution_count": 1,
   "metadata": {},
   "outputs": [
    {
     "name": "stderr",
     "output_type": "stream",
     "text": [
      "2023-06-12 08:49:37.791373: I tensorflow/core/platform/cpu_feature_guard.cc:193] This TensorFlow binary is optimized with oneAPI Deep Neural Network Library (oneDNN) to use the following CPU instructions in performance-critical operations:  SSE4.1 SSE4.2 AVX AVX2 FMA\n",
      "To enable them in other operations, rebuild TensorFlow with the appropriate compiler flags.\n"
     ]
    },
    {
     "ename": "ValueError",
     "evalue": "Exception encountered when calling layer \"time2_vec\" (type Time2Vec).\n\nin user code:\n\n    File \"/tmp/ipykernel_32545/4024073291.py\", line 22, in call  *\n        sin_trans = tf.math.sin(tf.matmul(time_values, self.w) + self.b)\n\n    ValueError: Shape must be rank 2 but is rank 1 for '{{node time2_vec/MatMul}} = MatMul[T=DT_FLOAT, transpose_a=false, transpose_b=false](time2_vec/FloorMod, time2_vec/MatMul/ReadVariableOp)' with input shapes: [?], [1,32].\n\n\nCall arguments received by layer \"time2_vec\" (type Time2Vec):\n  • x=tf.Tensor(shape=(None, 1), dtype=float32)",
     "output_type": "error",
     "traceback": [
      "\u001b[0;31m---------------------------------------------------------------------------\u001b[0m",
      "\u001b[0;31mValueError\u001b[0m                                Traceback (most recent call last)",
      "Cell \u001b[0;32mIn[1], line 30\u001b[0m\n\u001b[1;32m     28\u001b[0m output_dim \u001b[39m=\u001b[39m \u001b[39m32\u001b[39m  \u001b[39m# Dimension of the Time2Vec output\u001b[39;00m\n\u001b[1;32m     29\u001b[0m inputs \u001b[39m=\u001b[39m Input(shape\u001b[39m=\u001b[39minput_shape)\n\u001b[0;32m---> 30\u001b[0m time2vec \u001b[39m=\u001b[39m Time2Vec(output_dim)(inputs)\n\u001b[1;32m     31\u001b[0m dense \u001b[39m=\u001b[39m Dense(\u001b[39m64\u001b[39m, activation\u001b[39m=\u001b[39m\u001b[39m'\u001b[39m\u001b[39mrelu\u001b[39m\u001b[39m'\u001b[39m)(time2vec)\n\u001b[1;32m     32\u001b[0m outputs \u001b[39m=\u001b[39m Dense(\u001b[39m1\u001b[39m, activation\u001b[39m=\u001b[39m\u001b[39m'\u001b[39m\u001b[39mlinear\u001b[39m\u001b[39m'\u001b[39m)(dense)\n",
      "File \u001b[0;32m~/anaconda3/envs/tfgpu/lib/python3.9/site-packages/keras/utils/traceback_utils.py:70\u001b[0m, in \u001b[0;36mfilter_traceback.<locals>.error_handler\u001b[0;34m(*args, **kwargs)\u001b[0m\n\u001b[1;32m     67\u001b[0m     filtered_tb \u001b[39m=\u001b[39m _process_traceback_frames(e\u001b[39m.\u001b[39m__traceback__)\n\u001b[1;32m     68\u001b[0m     \u001b[39m# To get the full stack trace, call:\u001b[39;00m\n\u001b[1;32m     69\u001b[0m     \u001b[39m# `tf.debugging.disable_traceback_filtering()`\u001b[39;00m\n\u001b[0;32m---> 70\u001b[0m     \u001b[39mraise\u001b[39;00m e\u001b[39m.\u001b[39mwith_traceback(filtered_tb) \u001b[39mfrom\u001b[39;00m \u001b[39mNone\u001b[39m\n\u001b[1;32m     71\u001b[0m \u001b[39mfinally\u001b[39;00m:\n\u001b[1;32m     72\u001b[0m     \u001b[39mdel\u001b[39;00m filtered_tb\n",
      "File \u001b[0;32m/tmp/__autograph_generated_filecwqwsggg.py:11\u001b[0m, in \u001b[0;36mouter_factory.<locals>.inner_factory.<locals>.tf__call\u001b[0;34m(self, x)\u001b[0m\n\u001b[1;32m      9\u001b[0m retval_ \u001b[39m=\u001b[39m ag__\u001b[39m.\u001b[39mUndefinedReturnValue()\n\u001b[1;32m     10\u001b[0m time_values \u001b[39m=\u001b[39m ag__\u001b[39m.\u001b[39mconverted_call(ag__\u001b[39m.\u001b[39mld(tf)\u001b[39m.\u001b[39mmath\u001b[39m.\u001b[39mfloormod, (ag__\u001b[39m.\u001b[39mld(x)[:, \u001b[39m0\u001b[39m], \u001b[39m24\u001b[39m), \u001b[39mNone\u001b[39;00m, fscope)\n\u001b[0;32m---> 11\u001b[0m sin_trans \u001b[39m=\u001b[39m ag__\u001b[39m.\u001b[39mconverted_call(ag__\u001b[39m.\u001b[39mld(tf)\u001b[39m.\u001b[39mmath\u001b[39m.\u001b[39msin, (ag__\u001b[39m.\u001b[39mconverted_call(ag__\u001b[39m.\u001b[39mld(tf)\u001b[39m.\u001b[39mmatmul, (ag__\u001b[39m.\u001b[39mld(time_values), ag__\u001b[39m.\u001b[39mld(\u001b[39mself\u001b[39m)\u001b[39m.\u001b[39mw), \u001b[39mNone\u001b[39;00m, fscope) \u001b[39m+\u001b[39m ag__\u001b[39m.\u001b[39mld(\u001b[39mself\u001b[39m)\u001b[39m.\u001b[39mb,), \u001b[39mNone\u001b[39;00m, fscope)\n\u001b[1;32m     12\u001b[0m cos_trans \u001b[39m=\u001b[39m ag__\u001b[39m.\u001b[39mconverted_call(ag__\u001b[39m.\u001b[39mld(tf)\u001b[39m.\u001b[39mmath\u001b[39m.\u001b[39mcos, (ag__\u001b[39m.\u001b[39mconverted_call(ag__\u001b[39m.\u001b[39mld(tf)\u001b[39m.\u001b[39mmatmul, (ag__\u001b[39m.\u001b[39mld(time_values), ag__\u001b[39m.\u001b[39mld(\u001b[39mself\u001b[39m)\u001b[39m.\u001b[39mw), \u001b[39mNone\u001b[39;00m, fscope) \u001b[39m+\u001b[39m ag__\u001b[39m.\u001b[39mld(\u001b[39mself\u001b[39m)\u001b[39m.\u001b[39mb,), \u001b[39mNone\u001b[39;00m, fscope)\n\u001b[1;32m     13\u001b[0m \u001b[39mtry\u001b[39;00m:\n",
      "\u001b[0;31mValueError\u001b[0m: Exception encountered when calling layer \"time2_vec\" (type Time2Vec).\n\nin user code:\n\n    File \"/tmp/ipykernel_32545/4024073291.py\", line 22, in call  *\n        sin_trans = tf.math.sin(tf.matmul(time_values, self.w) + self.b)\n\n    ValueError: Shape must be rank 2 but is rank 1 for '{{node time2_vec/MatMul}} = MatMul[T=DT_FLOAT, transpose_a=false, transpose_b=false](time2_vec/FloorMod, time2_vec/MatMul/ReadVariableOp)' with input shapes: [?], [1,32].\n\n\nCall arguments received by layer \"time2_vec\" (type Time2Vec):\n  • x=tf.Tensor(shape=(None, 1), dtype=float32)"
     ]
    }
   ],
   "source": [
    "dense = Dense(64, activation='relu')(time2vec)\n",
    "outputs = Dense(1, activation='linear')(dense)\n",
    "\n",
    "model = Model(inputs=inputs, outputs=outputs)\n",
    "model.compile(optimizer=Adam(lr=0.001), loss='mse')\n",
    "\n",
    "# Generate sample data\n",
    "num_samples = 1000\n",
    "time_values = tf.random.uniform((num_samples, 1), minval=0, maxval=24)\n",
    "target_values = 2 * time_values + 5  # Linear relationship for demonstration\n",
    "\n",
    "# Train the model\n",
    "model.fit(time_values, target_values, epochs=10, batch_size=32)\n",
    "\n",
    "# Test the model\n",
    "test_time_values = tf.random.uniform((10, 1), minval=0, maxval=24)\n",
    "predictions = model.predict(test_time_values)\n",
    "\n",
    "print(\"Predictions:\", predictions)\n"
   ]
  }
 ],
 "metadata": {
  "kernelspec": {
   "display_name": "tfgpu",
   "language": "python",
   "name": "python3"
  },
  "language_info": {
   "codemirror_mode": {
    "name": "ipython",
    "version": 3
   },
   "file_extension": ".py",
   "mimetype": "text/x-python",
   "name": "python",
   "nbconvert_exporter": "python",
   "pygments_lexer": "ipython3",
   "version": "3.9.15"
  },
  "orig_nbformat": 4
 },
 "nbformat": 4,
 "nbformat_minor": 2
}
