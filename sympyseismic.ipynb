{
 "cells": [
  {
   "cell_type": "code",
   "execution_count": 3,
   "metadata": {},
   "outputs": [
    {
     "name": "stdout",
     "output_type": "stream",
     "text": [
      "Calculated Normal Moveout Time:\n",
      "13.4824989441045\n"
     ]
    }
   ],
   "source": [
    "import sympy as sp\n",
    "\n",
    "# Define the symbols\n",
    "t, x, v = sp.symbols('t x v')\n",
    "\n",
    "# Define the NMO equation\n",
    "tnmo = sp.sqrt(t**2 + (x**2) / (v**2))\n",
    "\n",
    "# Given values\n",
    "recorded_time = 2.0  # seconds\n",
    "offset_distance = 20000.0  # meters\n",
    "velocity_water = 1500.0  # m/s\n",
    "\n",
    "# Substitute the values into the NMO equation\n",
    "tnmo_calculated = tnmo.subs({t: recorded_time, x: offset_distance, v: velocity_water})\n",
    "\n",
    "# Display the calculated normal moveout time\n",
    "print(\"Calculated Normal Moveout Time:\")\n",
    "print(tnmo_calculated.evalf())  # evalf() evaluates the expression numerically\n"
   ]
  }
 ],
 "metadata": {
  "kernelspec": {
   "display_name": "devito",
   "language": "python",
   "name": "python3"
  },
  "language_info": {
   "codemirror_mode": {
    "name": "ipython",
    "version": 3
   },
   "file_extension": ".py",
   "mimetype": "text/x-python",
   "name": "python",
   "nbconvert_exporter": "python",
   "pygments_lexer": "ipython3",
   "version": "3.11.4"
  },
  "orig_nbformat": 4
 },
 "nbformat": 4,
 "nbformat_minor": 2
}
