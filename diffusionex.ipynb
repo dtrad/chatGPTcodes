{
 "cells": [
  {
   "cell_type": "code",
   "execution_count": 1,
   "metadata": {},
   "outputs": [],
   "source": [
    "import torch\n",
    "import torch.nn as nn\n",
    "import torch.optim as optim\n",
    "from torchvision import datasets, transforms\n",
    "from torch.utils.data import DataLoader"
   ]
  },
  {
   "cell_type": "code",
   "execution_count": 2,
   "metadata": {},
   "outputs": [],
   "source": [
    "# Define a simple U-Net-like model for denoising\n",
    "class UNet(nn.Module):\n",
    "    def __init__(self):\n",
    "        super().__init__()\n",
    "        self.encoder = nn.Sequential(\n",
    "            nn.Conv2d(1, 32, kernel_size=3, padding=1),\n",
    "            nn.ReLU(),\n",
    "            nn.Conv2d(32, 64, kernel_size=3, stride=2, padding=1),  # Downsample\n",
    "            nn.ReLU(),\n",
    "        )\n",
    "        self.middle = nn.Sequential(\n",
    "            nn.Conv2d(64, 64, kernel_size=3, padding=1),\n",
    "            nn.ReLU(),\n",
    "        )\n",
    "        self.decoder = nn.Sequential(\n",
    "            nn.ConvTranspose2d(64, 32, kernel_size=4, stride=2, padding=1),  # Upsample\n",
    "            nn.ReLU(),\n",
    "            nn.Conv2d(32, 1, kernel_size=3, padding=1),\n",
    "        )\n",
    "\n",
    "    def forward(self, x):\n",
    "        x = self.encoder(x)\n",
    "        x = self.middle(x)\n",
    "        x = self.decoder(x)\n",
    "        return x"
   ]
  },
  {
   "cell_type": "code",
   "execution_count": 3,
   "metadata": {},
   "outputs": [],
   "source": [
    "# Forward diffusion: Add noise to an image\n",
    "def forward_diffusion(image, timesteps, beta_schedule):\n",
    "    device = image.device\n",
    "    betas = torch.linspace(beta_schedule[0], beta_schedule[1], timesteps).to(device)\n",
    "    alphas = 1 - betas\n",
    "    alphas_cumprod = torch.cumprod(alphas, dim=0)\n",
    "    noise = torch.randn_like(image)\n",
    "    random_timestep = torch.randint(0, timesteps, (1,), device=device)\n",
    "    alpha_t = alphas_cumprod[random_timestep].view(-1, 1, 1, 1)\n",
    "    noisy_image = image * alpha_t.sqrt() + noise * (1 - alpha_t).sqrt()\n",
    "    return noisy_image, noise, random_timestep"
   ]
  },
  {
   "cell_type": "code",
   "execution_count": 4,
   "metadata": {},
   "outputs": [],
   "source": [
    "# Define training loop\n",
    "def train_diffusion_model():\n",
    "    # Hyperparameters\n",
    "    epochs = 5\n",
    "    batch_size = 64\n",
    "    learning_rate = 1e-3\n",
    "    timesteps = 100\n",
    "    beta_schedule = (0.1, 0.02)  # Linearly decreasing betas\n",
    "\n",
    "    # Data preparation\n",
    "    transform = transforms.Compose([transforms.ToTensor()])\n",
    "    train_dataset = datasets.MNIST(root=\"./data\", train=True, download=True, transform=transform)\n",
    "    train_loader = DataLoader(train_dataset, batch_size=batch_size, shuffle=True)\n",
    "\n",
    "    # Model, loss, optimizer\n",
    "    model = UNet().cuda()\n",
    "    criterion = nn.MSELoss()\n",
    "    optimizer = optim.Adam(model.parameters(), lr=learning_rate)\n",
    "\n",
    "    # Training\n",
    "    model.train()\n",
    "    for epoch in range(epochs):\n",
    "        for i, (images, _) in enumerate(train_loader):\n",
    "            images = images.cuda()\n",
    "            noisy_images, noise, t = forward_diffusion(images, timesteps, beta_schedule)\n",
    "            predicted_noise = model(noisy_images)\n",
    "\n",
    "            loss = criterion(predicted_noise, noise)\n",
    "            optimizer.zero_grad()\n",
    "            loss.backward()\n",
    "            optimizer.step()\n",
    "\n",
    "            if i % 100 == 0:\n",
    "                print(f\"Epoch [{epoch+1}/{epochs}], Step [{i+1}/{len(train_loader)}], Loss: {loss.item():.4f}\")\n",
    "\n",
    "    return model"
   ]
  },
  {
   "cell_type": "code",
   "execution_count": 5,
   "metadata": {},
   "outputs": [
    {
     "name": "stdout",
     "output_type": "stream",
     "text": [
      "Downloading http://yann.lecun.com/exdb/mnist/train-images-idx3-ubyte.gz\n",
      "Failed to download (trying next):\n",
      "HTTP Error 403: Forbidden\n",
      "\n",
      "Downloading https://ossci-datasets.s3.amazonaws.com/mnist/train-images-idx3-ubyte.gz\n",
      "Downloading https://ossci-datasets.s3.amazonaws.com/mnist/train-images-idx3-ubyte.gz to ./data/MNIST/raw/train-images-idx3-ubyte.gz\n"
     ]
    },
    {
     "name": "stderr",
     "output_type": "stream",
     "text": [
      "100%|██████████| 9912422/9912422 [00:00<00:00, 16972407.50it/s]\n"
     ]
    },
    {
     "name": "stdout",
     "output_type": "stream",
     "text": [
      "Extracting ./data/MNIST/raw/train-images-idx3-ubyte.gz to ./data/MNIST/raw\n",
      "\n",
      "Downloading http://yann.lecun.com/exdb/mnist/train-labels-idx1-ubyte.gz\n",
      "Failed to download (trying next):\n",
      "HTTP Error 403: Forbidden\n",
      "\n",
      "Downloading https://ossci-datasets.s3.amazonaws.com/mnist/train-labels-idx1-ubyte.gz\n",
      "Downloading https://ossci-datasets.s3.amazonaws.com/mnist/train-labels-idx1-ubyte.gz to ./data/MNIST/raw/train-labels-idx1-ubyte.gz\n"
     ]
    },
    {
     "name": "stderr",
     "output_type": "stream",
     "text": [
      "100%|██████████| 28881/28881 [00:00<00:00, 448468.01it/s]\n"
     ]
    },
    {
     "name": "stdout",
     "output_type": "stream",
     "text": [
      "Extracting ./data/MNIST/raw/train-labels-idx1-ubyte.gz to ./data/MNIST/raw\n",
      "\n",
      "Downloading http://yann.lecun.com/exdb/mnist/t10k-images-idx3-ubyte.gz\n",
      "Failed to download (trying next):\n",
      "HTTP Error 403: Forbidden\n",
      "\n",
      "Downloading https://ossci-datasets.s3.amazonaws.com/mnist/t10k-images-idx3-ubyte.gz\n",
      "Downloading https://ossci-datasets.s3.amazonaws.com/mnist/t10k-images-idx3-ubyte.gz to ./data/MNIST/raw/t10k-images-idx3-ubyte.gz\n"
     ]
    },
    {
     "name": "stderr",
     "output_type": "stream",
     "text": [
      "100%|██████████| 1648877/1648877 [00:00<00:00, 4264732.95it/s]\n"
     ]
    },
    {
     "name": "stdout",
     "output_type": "stream",
     "text": [
      "Extracting ./data/MNIST/raw/t10k-images-idx3-ubyte.gz to ./data/MNIST/raw\n",
      "\n",
      "Downloading http://yann.lecun.com/exdb/mnist/t10k-labels-idx1-ubyte.gz\n",
      "Failed to download (trying next):\n",
      "HTTP Error 403: Forbidden\n",
      "\n",
      "Downloading https://ossci-datasets.s3.amazonaws.com/mnist/t10k-labels-idx1-ubyte.gz\n",
      "Downloading https://ossci-datasets.s3.amazonaws.com/mnist/t10k-labels-idx1-ubyte.gz to ./data/MNIST/raw/t10k-labels-idx1-ubyte.gz\n"
     ]
    },
    {
     "name": "stderr",
     "output_type": "stream",
     "text": [
      "100%|██████████| 4542/4542 [00:00<00:00, 1175160.62it/s]\n"
     ]
    },
    {
     "name": "stdout",
     "output_type": "stream",
     "text": [
      "Extracting ./data/MNIST/raw/t10k-labels-idx1-ubyte.gz to ./data/MNIST/raw\n",
      "\n",
      "Epoch [1/5], Step [1/938], Loss: 1.0024\n",
      "Epoch [1/5], Step [101/938], Loss: 0.0718\n",
      "Epoch [1/5], Step [201/938], Loss: 0.0435\n",
      "Epoch [1/5], Step [301/938], Loss: 0.0139\n",
      "Epoch [1/5], Step [401/938], Loss: 0.0170\n",
      "Epoch [1/5], Step [501/938], Loss: 0.0134\n",
      "Epoch [1/5], Step [601/938], Loss: 0.0104\n",
      "Epoch [1/5], Step [701/938], Loss: 0.0200\n",
      "Epoch [1/5], Step [801/938], Loss: 0.0090\n",
      "Epoch [1/5], Step [901/938], Loss: 0.0148\n",
      "Epoch [2/5], Step [1/938], Loss: 0.0095\n",
      "Epoch [2/5], Step [101/938], Loss: 0.0113\n",
      "Epoch [2/5], Step [201/938], Loss: 0.0090\n",
      "Epoch [2/5], Step [301/938], Loss: 0.0061\n",
      "Epoch [2/5], Step [401/938], Loss: 0.0128\n",
      "Epoch [2/5], Step [501/938], Loss: 0.0106\n",
      "Epoch [2/5], Step [601/938], Loss: 0.0082\n",
      "Epoch [2/5], Step [701/938], Loss: 0.0057\n",
      "Epoch [2/5], Step [801/938], Loss: 0.0203\n",
      "Epoch [2/5], Step [901/938], Loss: 0.0085\n",
      "Epoch [3/5], Step [1/938], Loss: 0.0060\n",
      "Epoch [3/5], Step [101/938], Loss: 0.0169\n",
      "Epoch [3/5], Step [201/938], Loss: 0.0115\n",
      "Epoch [3/5], Step [301/938], Loss: 0.0063\n",
      "Epoch [3/5], Step [401/938], Loss: 0.0179\n",
      "Epoch [3/5], Step [501/938], Loss: 0.0063\n",
      "Epoch [3/5], Step [601/938], Loss: 0.0110\n",
      "Epoch [3/5], Step [701/938], Loss: 0.0408\n",
      "Epoch [3/5], Step [801/938], Loss: 0.0071\n",
      "Epoch [3/5], Step [901/938], Loss: 0.0070\n",
      "Epoch [4/5], Step [1/938], Loss: 0.0164\n",
      "Epoch [4/5], Step [101/938], Loss: 0.0194\n",
      "Epoch [4/5], Step [201/938], Loss: 0.0053\n",
      "Epoch [4/5], Step [301/938], Loss: 0.0109\n",
      "Epoch [4/5], Step [401/938], Loss: 0.0043\n",
      "Epoch [4/5], Step [501/938], Loss: 0.0191\n",
      "Epoch [4/5], Step [601/938], Loss: 0.0055\n",
      "Epoch [4/5], Step [701/938], Loss: 0.0443\n",
      "Epoch [4/5], Step [801/938], Loss: 0.0148\n",
      "Epoch [4/5], Step [901/938], Loss: 0.0086\n",
      "Epoch [5/5], Step [1/938], Loss: 0.0071\n",
      "Epoch [5/5], Step [101/938], Loss: 0.0572\n",
      "Epoch [5/5], Step [201/938], Loss: 0.0101\n",
      "Epoch [5/5], Step [301/938], Loss: 0.0094\n",
      "Epoch [5/5], Step [401/938], Loss: 0.0097\n",
      "Epoch [5/5], Step [501/938], Loss: 0.1996\n",
      "Epoch [5/5], Step [601/938], Loss: 0.0062\n",
      "Epoch [5/5], Step [701/938], Loss: 0.0084\n",
      "Epoch [5/5], Step [801/938], Loss: 0.0398\n",
      "Epoch [5/5], Step [901/938], Loss: 0.0069\n"
     ]
    }
   ],
   "source": [
    "# Train the model\n",
    "trained_model = train_diffusion_model()\n"
   ]
  },
  {
   "cell_type": "code",
   "execution_count": 6,
   "metadata": {},
   "outputs": [],
   "source": [
    "import matplotlib.pyplot as plt\n",
    "\n",
    "# Visualization function\n",
    "def visualize_results(model, dataset, timesteps, beta_schedule):\n",
    "    model.eval()\n",
    "    transform = transforms.Compose([transforms.ToTensor()])\n",
    "    original_image = dataset[0][0].unsqueeze(0).cuda()  # Get a single image, move to GPU\n",
    "    with torch.no_grad():\n",
    "        # Add noise\n",
    "        noisy_image, noise, t = forward_diffusion(original_image, timesteps, beta_schedule)\n",
    "\n",
    "        # Predict denoised image\n",
    "        predicted_noise = model(noisy_image)\n",
    "        alphas_cumprod = torch.cumprod(\n",
    "            1 - torch.linspace(beta_schedule[0], beta_schedule[1], timesteps).cuda(), dim=0\n",
    "        )\n",
    "        alpha_t = alphas_cumprod[t].view(-1, 1, 1, 1)\n",
    "        denoised_image = (noisy_image - predicted_noise * (1 - alpha_t).sqrt()) / alpha_t.sqrt()\n",
    "\n",
    "    # Convert tensors to numpy arrays for plotting\n",
    "    original_image = original_image.squeeze(0).cpu().numpy()\n",
    "    noisy_image = noisy_image.squeeze(0).cpu().numpy()\n",
    "    denoised_image = denoised_image.squeeze(0).cpu().numpy()\n",
    "\n",
    "    # Plot\n",
    "    fig, axs = plt.subplots(1, 3, figsize=(15, 5))\n",
    "    axs[0].imshow(original_image[0], cmap=\"gray\")\n",
    "    axs[0].set_title(\"Original Image\")\n",
    "    axs[0].axis(\"off\")\n",
    "\n",
    "    axs[1].imshow(noisy_image[0], cmap=\"gray\")\n",
    "    axs[1].set_title(\"Noisy Image\")\n",
    "    axs[1].axis(\"off\")\n",
    "\n",
    "    axs[2].imshow(denoised_image[0], cmap=\"gray\")\n",
    "    axs[2].set_title(\"Denoised Image\")\n",
    "    axs[2].axis(\"off\")\n",
    "\n",
    "    plt.show()\n"
   ]
  },
  {
   "cell_type": "code",
   "execution_count": 7,
   "metadata": {},
   "outputs": [
    {
     "data": {
      "image/png": "[encoded data removed]",
      "text/plain": [
       "<Figure size 1500x500 with 3 Axes>"
      ]
     },
     "metadata": {},
     "output_type": "display_data"
    }
   ],
   "source": [
    "#trained_model = train_diffusion_model()\n",
    "train_dataset = datasets.MNIST(root=\"./data\", train=True, download=True, transform=transforms.ToTensor())\n",
    "visualize_results(trained_model, train_dataset, timesteps=100, beta_schedule=(0.1, 0.02))\n"
   ]
  }
 ],
 "metadata": {
  "kernelspec": {
   "display_name": "pytorch",
   "language": "python",
   "name": "python3"
  },
  "language_info": {
   "codemirror_mode": {
    "name": "ipython",
    "version": 3
   },
   "file_extension": ".py",
   "mimetype": "text/x-python",
   "name": "python",
   "nbconvert_exporter": "python",
   "pygments_lexer": "ipython3",
   "version": "3.11.6"
  }
 },
 "nbformat": 4,
 "nbformat_minor": 2
}
