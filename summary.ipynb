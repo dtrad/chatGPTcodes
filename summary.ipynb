{
 "cells": [
  {
   "cell_type": "code",
   "execution_count": 2,
   "metadata": {},
   "outputs": [],
   "source": [
    "from openai import OpenAI\n",
    "import os\n",
    "import sys\n",
    "client = OpenAI(api_key=os.getenv(\"AOAI_KEY\"))\n"
   ]
  },
  {
   "cell_type": "code",
   "execution_count": 36,
   "metadata": {},
   "outputs": [],
   "source": [
    "# create a function to read text from an ascii file\n",
    "def read_text(file):\n",
    "    with open(file, \"r\") as f:\n",
    "        return f.read()\n",
    "    \n",
    "    "
   ]
  },
  {
   "cell_type": "code",
   "execution_count": 37,
   "metadata": {},
   "outputs": [],
   "source": [
    "input= read_text(\"inputtext.txt\")"
   ]
  },
  {
   "cell_type": "code",
   "execution_count": 38,
   "metadata": {},
   "outputs": [],
   "source": [
    "import re\n",
    "input2=re.sub(r'\\n+', ' ', input)\n"
   ]
  },
  {
   "cell_type": "code",
   "execution_count": 39,
   "metadata": {},
   "outputs": [
    {
     "name": "stdout",
     "output_type": "stream",
     "text": [
      "Primary waves have one reflection in its travel path, whereas multiple waves have undergon\n",
      "e more than one reflection between source and receiver (Sengbush, 2012). Multiples can be \n",
      "divided into two general types: surface and internal multiples. Surface multiples can be e\n",
      "xtracted and used for marine data because their amplitudes are strong and can easily overw\n",
      "helm the internal multiples. As for internal multiples, they could be a good target for pr\n",
      "ocessing land data, precisely for the presence of high- and low-velocity layers. Migration\n",
      " is a process that re-locates the seismic events to the true space or time lo- cation. Bec\n",
      "ause multiple energy can penetrate some subsurface targets where primaries are weakly focu\n",
      "sed, migration of multiples is a helpful tool adding to the illumination of the subsurface\n",
      ".\n"
     ]
    }
   ],
   "source": [
    "# print input2 in lines of 90 characters or less\n",
    "for i in range(0, len(input2), 90):\n",
    "    print(input2[i:i+90])\n",
    "    \n",
    "\n",
    "\n"
   ]
  },
  {
   "cell_type": "code",
   "execution_count": 40,
   "metadata": {},
   "outputs": [],
   "source": [
    "\n",
    "response = client.chat.completions.create(\n",
    "  model=\"gpt-4o\",\n",
    "  messages=[\n",
    "    {\n",
    "      \"role\": \"system\",\n",
    "      \"content\": [\n",
    "        {\n",
    "          \"type\": \"text\",\n",
    "          \"text\": \"you are a assistant that provides the date of the review and a summary of text in the following JSON format:\\n{\\n\\\"Date\\\": <data of the review>,\\n\\\"Summary\\\": <short summary of the text, maximum 50 words>,\\n}\\n\"\n",
    "        }\n",
    "      ]\n",
    "    },\n",
    "    {\n",
    "      \"role\": \"user\",\n",
    "      \"content\": [\n",
    "        {\n",
    "          \"type\": \"text\",\n",
    "          \"text\": input2\n",
    "        }\n",
    "      ]\n",
    "    },\n",
    "    {\n",
    "      \"role\": \"assistant\",\n",
    "      \"content\": [\n",
    "        {\n",
    "          \"type\": \"text\",\n",
    "          \"text\": \"{\\n\\\"Date\\\": \\\"N/A\\\",\\n\\\"Summary\\\": \\\"Primary waves experience one reflection, while multiples have several. Multiples are categorized into surface and internal types. Surface multiples benefit marine data; internal multiples are valuable for processing land data.\\\"\\n}\"\n",
    "        }\n",
    "      ]\n",
    "    }\n",
    "  ],\n",
    "  temperature=1,\n",
    "  max_tokens=256,\n",
    "  top_p=1,\n",
    "  frequency_penalty=0.53,\n",
    "  presence_penalty=0,\n",
    "  response_format={\n",
    "    \"type\": \"text\"\n",
    "  }\n",
    ")"
   ]
  },
  {
   "cell_type": "code",
   "execution_count": 41,
   "metadata": {},
   "outputs": [
    {
     "data": {
      "text/plain": [
       "'{\\n\"Date\": \"2012\",\\n\"Summary\": \"Primary waves have one reflection; multiples have more. Surface multiples aid marine data, internal ones help land data. Migration relocates seismic events to proper locations, enhancing subsurface imaging.\"\\n}'"
      ]
     },
     "execution_count": 41,
     "metadata": {},
     "output_type": "execute_result"
    }
   ],
   "source": [
    "# print the response in a readable format with line breaks\n",
    "response.choices[0].message.content\n",
    "#print(response['choices'][0]['message']['content'][0]['text'])"
   ]
  },
  {
   "cell_type": "code",
   "execution_count": 42,
   "metadata": {},
   "outputs": [
    {
     "name": "stdout",
     "output_type": "stream",
     "text": [
      "{\n",
      "\"Date\": \"2012\",\n",
      "\"Summary\": \"Primary waves have one reflection; multiples have more.\n",
      "Surface multiples aid marine data, internal ones help land data.\n",
      "Migration relocates seismic events to proper locations, enhancing subsurface imaging.\"\n",
      "}\n"
     ]
    }
   ],
   "source": [
    "# split the previous response into sentences\n",
    "import re\n",
    "sentences = re.split(r'(?<!\\w\\.\\w.)(?<![A-Z][a-z]\\.)(?<=\\.|\\?)\\s', response.choices[0].message.content)\n",
    "for s in sentences:\n",
    "    print(s)"
   ]
  },
  {
   "cell_type": "code",
   "execution_count": null,
   "metadata": {},
   "outputs": [],
   "source": []
  }
 ],
 "metadata": {
  "kernelspec": {
   "display_name": "genai",
   "language": "python",
   "name": "python3"
  },
  "language_info": {
   "codemirror_mode": {
    "name": "ipython",
    "version": 3
   },
   "file_extension": ".py",
   "mimetype": "text/x-python",
   "name": "python",
   "nbconvert_exporter": "python",
   "pygments_lexer": "ipython3",
   "version": "3.12.4"
  }
 },
 "nbformat": 4,
 "nbformat_minor": 2
}
