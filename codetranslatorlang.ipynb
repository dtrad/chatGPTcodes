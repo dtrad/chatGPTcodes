{
 "cells": [
  {
   "cell_type": "code",
   "execution_count": 1,
   "metadata": {},
   "outputs": [],
   "source": [
    "import openai\n",
    "from openai import OpenAI\n",
    "import os\n",
    "# Set your OpenAI API key\n",
    "# You can replace os.environ.get(\"OPENAI_API_KEY\") with your actual key for testing, but do not hardcode it in production.\n",
    "client = OpenAI(api_key=os.environ.get(\"OPENAI_API_KEY\"))\n",
    "\n"
   ]
  },
  {
   "cell_type": "code",
   "execution_count": 2,
   "metadata": {},
   "outputs": [],
   "source": [
    "from langchain.chat_models import ChatOpenAI\n",
    "from langchain.prompts.chat import ChatPromptTemplate, SystemMessagePromptTemplate, HumanMessagePromptTemplate\n",
    "from langchain.schema import AIMessage, HumanMessage, SystemMessage\n"
   ]
  },
  {
   "cell_type": "code",
   "execution_count": 3,
   "metadata": {},
   "outputs": [
    {
     "name": "stdout",
     "output_type": "stream",
     "text": [
      "Translation completed. Output written to translated_code.js.\n"
     ]
    }
   ],
   "source": [
    "\n",
    "def translate_code_with_langchain(input_code, source_language, target_language):\n",
    "    \"\"\"\n",
    "    Translates code using LangChain and OpenAI's GPT models.\n",
    "\n",
    "    Args:\n",
    "        input_code (str): Code to translate.\n",
    "        source_language (str): Source language (e.g., 'Python').\n",
    "        target_language (str): Target language (e.g., 'JavaScript').\n",
    "\n",
    "    Returns:\n",
    "        str: Translated code.\n",
    "    \"\"\"\n",
    "    # Initialize the chat model\n",
    "    chat = ChatOpenAI(model=\"gpt-4\", temperature=0.2)\n",
    "    \n",
    "    # Define the system and user messages\n",
    "    system_message = SystemMessage(content=\"You are an expert coding assistant.\")\n",
    "    user_message = HumanMessage(content=(\n",
    "        f\"Translate the following {source_language} code into {target_language}:\\n\\n\"\n",
    "        f\"{input_code}\\n\\n\"\n",
    "        \"Ensure that the translation is accurate, idiomatic, and uses best practices for the target language.\"\n",
    "    ))\n",
    "    \n",
    "    # Get the response\n",
    "    response = chat([system_message, user_message])\n",
    "    return response.content.strip()\n",
    "\n",
    "def translate_file_with_langchain(input_file_path, output_file_path, source_language, target_language):\n",
    "    \"\"\"\n",
    "    Translates code from a file using LangChain and writes the output to another file.\n",
    "\n",
    "    Args:\n",
    "        input_file_path (str): Path to the source file.\n",
    "        output_file_path (str): Path to the output file.\n",
    "        source_language (str): Source language (e.g., 'Python').\n",
    "        target_language (str): Target language (e.g., 'JavaScript').\n",
    "\n",
    "    Returns:\n",
    "        None\n",
    "    \"\"\"\n",
    "    try:\n",
    "        # Read input file\n",
    "        with open(input_file_path, 'r') as infile:\n",
    "            input_code = infile.read()\n",
    "        \n",
    "        # Translate code using LangChain\n",
    "        translated_code = translate_code_with_langchain(input_code, source_language, target_language)\n",
    "        \n",
    "        # Write output to file\n",
    "        with open(output_file_path, 'w') as outfile:\n",
    "            outfile.write(translated_code)\n",
    "        \n",
    "        print(f\"Translation completed. Output written to {output_file_path}.\")\n",
    "    except FileNotFoundError:\n",
    "        print(f\"Error: The file {input_file_path} was not found.\")\n",
    "    except Exception as e:\n",
    "        print(f\"An error occurred: {e}\")\n",
    "\n",
    "# Example usage\n",
    "source_file = \"source_code.py\"\n",
    "output_file = \"translated_code.js\"\n",
    "source_language = \"Python\"\n",
    "target_language = \"JavaScript\"\n",
    "\n",
    "translate_file_with_langchain(source_file, output_file, source_language, target_language)\n"
   ]
  },
  {
   "cell_type": "code",
   "execution_count": 4,
   "metadata": {},
   "outputs": [
    {
     "name": "stdout",
     "output_type": "stream",
     "text": [
      "Original code:\n",
      "def greet(name):\n",
      "    return \"Hello, \" + name + \"!\"\n",
      "\n",
      "def main():\n",
      "    print(greet(\"Alice\"))\n",
      "\n",
      "if __name__ == \"__main__\":\n",
      "    main()\n",
      "\n",
      "\n",
      "Translated code:\n",
      "Here is the JavaScript equivalent of your Python code:\n",
      "\n",
      "```javascript\n",
      "function greet(name) {\n",
      "    return \"Hello, \" + name + \"!\";\n",
      "}\n",
      "\n",
      "function main() {\n",
      "    console.log(greet(\"Alice\"));\n",
      "}\n",
      "\n",
      "main();\n",
      "```\n",
      "\n",
      "In JavaScript, we define functions using the `function` keyword. The `console.log` function is the JavaScript equivalent of Python's `print` function. Also, JavaScript doesn't have an equivalent to Python's `if __name__ == \"__main__\":`, so we just call the `main` function directly.\n"
     ]
    }
   ],
   "source": [
    "# print the original code and the translated code\n",
    "print(\"Original code:\")\n",
    "with open(source_file, 'r') as file:\n",
    "    print(file.read())\n",
    "    \n",
    "print(\"\\nTranslated code:\")\n",
    "with open(output_file, 'r') as file:\n",
    "    print(file.read())\n",
    "    "
   ]
  }
 ],
 "metadata": {
  "kernelspec": {
   "display_name": "langchain0",
   "language": "python",
   "name": "python3"
  },
  "language_info": {
   "codemirror_mode": {
    "name": "ipython",
    "version": 3
   },
   "file_extension": ".py",
   "mimetype": "text/x-python",
   "name": "python",
   "nbconvert_exporter": "python",
   "pygments_lexer": "ipython3",
   "version": "3.12.5"
  }
 },
 "nbformat": 4,
 "nbformat_minor": 2
}
