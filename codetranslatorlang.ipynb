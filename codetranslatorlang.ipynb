{
 "cells": [
  {
   "cell_type": "code",
   "execution_count": 3,
   "metadata": {},
   "outputs": [
    {
     "name": "stdout",
     "output_type": "stream",
     "text": [
      "langchain             *  /home/dtrad/anaconda3/envs/langchain\n"
     ]
    }
   ],
   "source": [
    "!conda info --envs | grep \\*"
   ]
  },
  {
   "cell_type": "code",
   "execution_count": 1,
   "metadata": {},
   "outputs": [],
   "source": [
    "import openai\n",
    "from openai import OpenAI\n",
    "import os\n",
    "# Set your OpenAI API key\n",
    "# You can replace os.environ.get(\"OPENAI_API_KEY\") with your actual key for testing, but do not hardcode it in production.\n",
    "client = OpenAI(api_key=os.environ.get(\"OPENAI_API_KEY\"))\n",
    "\n"
   ]
  },
  {
   "cell_type": "code",
   "execution_count": 2,
   "metadata": {},
   "outputs": [],
   "source": [
    "from langchain.chat_models import ChatOpenAI\n",
    "from langchain.prompts.chat import ChatPromptTemplate, SystemMessagePromptTemplate, HumanMessagePromptTemplate\n",
    "from langchain.schema import AIMessage, HumanMessage, SystemMessage\n"
   ]
  },
  {
   "cell_type": "code",
   "execution_count": 4,
   "metadata": {},
   "outputs": [
    {
     "name": "stderr",
     "output_type": "stream",
     "text": [
      "/tmp/ipykernel_126818/3120943005.py:14: LangChainDeprecationWarning: The class `ChatOpenAI` was deprecated in LangChain 0.0.10 and will be removed in 1.0. An updated version of the class exists in the :class:`~langchain-openai package and should be used instead. To use it run `pip install -U :class:`~langchain-openai` and import as `from :class:`~langchain_openai import ChatOpenAI``.\n",
      "  chat = ChatOpenAI(model=\"gpt-4\", temperature=0.2)\n",
      "/tmp/ipykernel_126818/3120943005.py:25: LangChainDeprecationWarning: The method `BaseChatModel.__call__` was deprecated in langchain-core 0.1.7 and will be removed in 1.0. Use :meth:`~invoke` instead.\n",
      "  response = chat([system_message, user_message])\n"
     ]
    },
    {
     "name": "stdout",
     "output_type": "stream",
     "text": [
      "Translation completed. Output written to translated_code.js.\n"
     ]
    }
   ],
   "source": [
    "\n",
    "def translate_code_with_langchain(input_code, source_language, target_language):\n",
    "    \"\"\"\n",
    "    Translates code using LangChain and OpenAI's GPT models.\n",
    "\n",
    "    Args:\n",
    "        input_code (str): Code to translate.\n",
    "        source_language (str): Source language (e.g., 'Python').\n",
    "        target_language (str): Target language (e.g., 'JavaScript').\n",
    "\n",
    "    Returns:\n",
    "        str: Translated code.\n",
    "    \"\"\"\n",
    "    # Initialize the chat model\n",
    "    chat = ChatOpenAI(model=\"gpt-4\", temperature=0.2)\n",
    "    \n",
    "    # Define the system and user messages\n",
    "    system_message = SystemMessage(content=\"You are an expert coding assistant.\")\n",
    "    user_message = HumanMessage(content=(\n",
    "        f\"Translate the following {source_language} code into {target_language}:\\n\\n\"\n",
    "        f\"{input_code}\\n\\n\"\n",
    "        \"Ensure that the translation is accurate, idiomatic, and uses best practices for the target language.\"\n",
    "    ))\n",
    "    \n",
    "    # Get the response\n",
    "    response = chat([system_message, user_message])\n",
    "    return response.content.strip()\n",
    "\n",
    "def translate_file_with_langchain(input_file_path, output_file_path, source_language, target_language):\n",
    "    \"\"\"\n",
    "    Translates code from a file using LangChain and writes the output to another file.\n",
    "\n",
    "    Args:\n",
    "        input_file_path (str): Path to the source file.\n",
    "        output_file_path (str): Path to the output file.\n",
    "        source_language (str): Source language (e.g., 'Python').\n",
    "        target_language (str): Target language (e.g., 'JavaScript').\n",
    "\n",
    "    Returns:\n",
    "        None\n",
    "    \"\"\"\n",
    "    try:\n",
    "        # Read input file\n",
    "        with open(input_file_path, 'r') as infile:\n",
    "            input_code = infile.read()\n",
    "        \n",
    "        # Translate code using LangChain\n",
    "        translated_code = translate_code_with_langchain(input_code, source_language, target_language)\n",
    "        \n",
    "        # Write output to file\n",
    "        with open(output_file_path, 'w') as outfile:\n",
    "            outfile.write(translated_code)\n",
    "        \n",
    "        print(f\"Translation completed. Output written to {output_file_path}.\")\n",
    "    except FileNotFoundError:\n",
    "        print(f\"Error: The file {input_file_path} was not found.\")\n",
    "    except Exception as e:\n",
    "        print(f\"An error occurred: {e}\")\n",
    "\n",
    "# Example usage\n",
    "source_file = \"source_code.py\"\n",
    "output_file = \"translated_code.js\"\n",
    "source_language = \"Python\"\n",
    "target_language = \"JavaScript\"\n",
    "\n",
    "translate_file_with_langchain(source_file, output_file, source_language, target_language)\n"
   ]
  },
  {
   "cell_type": "code",
   "execution_count": 5,
   "metadata": {},
   "outputs": [
    {
     "name": "stdout",
     "output_type": "stream",
     "text": [
      "Original code:\n",
      "def greet(name):\n",
      "    return \"Hello, \" + name + \"!\"\n",
      "\n",
      "def main():\n",
      "    print(greet(\"Alice\"))\n",
      "\n",
      "if __name__ == \"__main__\":\n",
      "    main()\n",
      "\n",
      "\n",
      "Translated code:\n",
      "Here is the JavaScript translation of your Python code:\n",
      "\n",
      "```javascript\n",
      "function greet(name) {\n",
      "    return \"Hello, \" + name + \"!\";\n",
      "}\n",
      "\n",
      "function main() {\n",
      "    console.log(greet(\"Alice\"));\n",
      "}\n",
      "\n",
      "main();\n",
      "```\n",
      "\n",
      "In JavaScript, we don't need to check if the script is being run as the main module like we do in Python with `if __name__ == \"__main__\":`. We can just call the `main()` function directly.\n"
     ]
    }
   ],
   "source": [
    "# print the original code and the translated code\n",
    "print(\"Original code:\")\n",
    "with open(source_file, 'r') as file:\n",
    "    print(file.read())\n",
    "    \n",
    "print(\"\\nTranslated code:\")\n",
    "with open(output_file, 'r') as file:\n",
    "    print(file.read())\n",
    "    "
   ]
  },
  {
   "cell_type": "code",
   "execution_count": 6,
   "metadata": {},
   "outputs": [
    {
     "name": "stderr",
     "output_type": "stream",
     "text": [
      "/tmp/ipykernel_126818/1707201981.py:18: LangChainDeprecationWarning: The class `LLMChain` was deprecated in LangChain 0.1.17 and will be removed in 1.0. Use :meth:`~RunnableSequence, e.g., `prompt | llm`` instead.\n",
      "  return LLMChain(llm=chat, prompt=prompt)\n",
      "/tmp/ipykernel_126818/1707201981.py:30: LangChainDeprecationWarning: The method `Chain.run` was deprecated in langchain 0.1.0 and will be removed in 1.0. Use :meth:`~invoke` instead.\n",
      "  response = chain.run(input_code=input_code, source_language=source_language, target_language=target_language)\n"
     ]
    },
    {
     "name": "stdout",
     "output_type": "stream",
     "text": [
      "Here is the equivalent C++ code:\n",
      "\n",
      "```cpp\n",
      "#include <iostream>\n",
      "#include <string>\n",
      "\n",
      "std::string greet(const std::string& name) {\n",
      "    return \"Hello, \" + name + \"!\";\n",
      "}\n",
      "\n",
      "int main() {\n",
      "    std::cout << greet(\"Alice\") << std::endl;\n",
      "    return 0;\n",
      "}\n",
      "```\n",
      "\n",
      "In this C++ code:\n",
      "\n",
      "- The `#include` directives at the top of the file are used to include the necessary libraries for input/output operations (`iostream`) and string manipulation (`string`).\n",
      "- The `greet` function is defined to take a constant reference to a string (`const std::string& name`). This is a common practice in C++ to avoid copying the string.\n",
      "- The `main` function is the entry point of the program. It calls the `greet` function and prints its result to the console using `std::cout`.\n",
      "- The `std::endl` is used to insert a new line at the end of the output.\n",
      "- The `return 0;` statement at the end of `main` indicates that the program has finished successfully.\n"
     ]
    }
   ],
   "source": [
    "from langchain.chains import LLMChain\n",
    "from langchain.prompts.chat import ChatPromptTemplate\n",
    "\n",
    "def create_translation_chain(model_name=\"gpt-4\"):\n",
    "    # Initialize the chat model\n",
    "    chat = ChatOpenAI(model=model_name, temperature=0.2)\n",
    "    \n",
    "    # Create the prompt template\n",
    "    prompt = ChatPromptTemplate.from_messages([\n",
    "        SystemMessagePromptTemplate.from_template(\"You are an expert coding assistant.\"),\n",
    "        HumanMessagePromptTemplate.from_template(\n",
    "            \"Translate the following {source_language} code into {target_language}:\\n\\n{input_code}\\n\\n\"\n",
    "            \"Ensure that the translation is accurate, idiomatic, and uses best practices for the target language.\"\n",
    "        )\n",
    "    ])\n",
    "    \n",
    "    # Create the chain\n",
    "    return LLMChain(llm=chat, prompt=prompt)\n",
    "\n",
    "# Example usage\n",
    "chain = create_translation_chain()\n",
    "# read input_code from a file source_code.py\n",
    "with open(\"source_code.py\", 'r') as file:\n",
    "    input_code = file.read()\n",
    "\n",
    "#input_code = \"def greet(name): return f'Hello, {name}!'\"\n",
    "source_language = \"Python\"\n",
    "target_language = \"C++\"\n",
    "\n",
    "response = chain.run(input_code=input_code, source_language=source_language, target_language=target_language)\n",
    "print(response)\n"
   ]
  }
 ],
 "metadata": {
  "kernelspec": {
   "display_name": "langchain",
   "language": "python",
   "name": "python3"
  },
  "language_info": {
   "codemirror_mode": {
    "name": "ipython",
    "version": 3
   },
   "file_extension": ".py",
   "mimetype": "text/x-python",
   "name": "python",
   "nbconvert_exporter": "python",
   "pygments_lexer": "ipython3",
   "version": "3.12.5"
  }
 },
 "nbformat": 4,
 "nbformat_minor": 2
}
