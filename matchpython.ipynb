{
 "cells": [
  {
   "cell_type": "code",
   "execution_count": 5,
   "metadata": {},
   "outputs": [],
   "source": [
    "import numpy as np\n",
    "\n",
    "def match_filter(signal, templ):\n",
    "    result = np.correlate(signal, templ, mode='valid')\n",
    "    return result\n"
   ]
  },
  {
   "cell_type": "code",
   "execution_count": 6,
   "metadata": {},
   "outputs": [
    {
     "name": "stdout",
     "output_type": "stream",
     "text": [
      "3\n"
     ]
    }
   ],
   "source": [
    "signal = [1, 2, 3, 4, 5]\n",
    "templ = [2, 3]\n",
    "result = match_filter(signal, templ)\n",
    "max_index = np.argmax(result)\n",
    "print(max_index)\n"
   ]
  }
 ],
 "metadata": {
  "kernelspec": {
   "display_name": "general",
   "language": "python",
   "name": "python3"
  },
  "language_info": {
   "codemirror_mode": {
    "name": "ipython",
    "version": 3
   },
   "file_extension": ".py",
   "mimetype": "text/x-python",
   "name": "python",
   "nbconvert_exporter": "python",
   "pygments_lexer": "ipython3",
   "version": "3.11.0"
  },
  "orig_nbformat": 4,
  "vscode": {
   "interpreter": {
    "hash": "ba155ccd3a98aaeba8955680d4031463a2b7306492f3d7ee6bb54c0033031bce"
   }
  }
 },
 "nbformat": 4,
 "nbformat_minor": 2
}
