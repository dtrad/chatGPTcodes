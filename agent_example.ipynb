{
  "cells": [
    {
      "cell_type": "markdown",
      "metadata": {},
      "source": [
        "# OpenAI Agent Example (Tool Calling)\n",
        "\n",
        "Minimal agent that lets the model call simple tools (current time, calculator, and a stub search), then returns a final answer.\n",
        "\n",
        "Prereqs:\n",
        "- Install: `pip install openai`\n",
        "- Set `OPENAI_API_KEY` in your environment\n",
        "\n",
        "Optional: set `OPENAI_MODEL` (defaults to `gpt-4o-mini`)."
      ]
    },
    {
      "cell_type": "code",
      "execution_count": 1,
      "metadata": {
        "collapsed": false
      },
      "outputs": [],
      "source": [
        "# If needed, uncomment to install\n",
        "# %pip install -q openai"
      ]
    },
    {
      "cell_type": "code",
      "execution_count": 2,
      "metadata": {},
      "outputs": [],
      "source": [
        "from __future__ import annotations\n",
        "\n",
        "import json\n",
        "import os\n",
        "from datetime import datetime, timezone\n",
        "from typing import Any, Dict, List\n",
        "\n",
        "try:\n",
        "    from openai import OpenAI\n",
        "except Exception as e:\n",
        "    raise SystemExit(\"The 'openai' package is required. Install with: pip install openai\")\n"
      ]
    },
    {
      "cell_type": "markdown",
      "metadata": {},
      "source": [
        "## Tools"
      ]
    },
    {
      "cell_type": "code",
      "execution_count": 4,
      "metadata": {},
      "outputs": [],
      "source": [
        "def tool_get_current_time(_: Dict[str, Any]) -> str:\n",
        "    \"\"\"Return current UTC time as ISO 8601 string.\"\"\"\n",
        "    return datetime.now(timezone.utc).isoformat()\n",
        "\n",
        "\n",
        "def _safe_eval_arith(expr: str) -> float:\n",
        "    \"\"\"Safely evaluate a simple arithmetic expression.\n",
        "\n",
        "    Supports numbers, +, -, *, /, **, parentheses. No names or calls.\n",
        "    \"\"\"\n",
        "    import ast\n",
        "    import operator as op\n",
        "\n",
        "    allowed_ops = {\n",
        "        ast.Add: op.add,\n",
        "        ast.Sub: op.sub,\n",
        "        ast.Mult: op.mul,\n",
        "        ast.Div: op.truediv,\n",
        "        ast.Pow: op.pow,\n",
        "        ast.USub: op.neg,\n",
        "        ast.UAdd: lambda x: x,\n",
        "    }\n",
        "\n",
        "    def _eval(node):\n",
        "        if isinstance(node, ast.Num):  # type: ignore[attr-defined]\n",
        "            return node.n\n",
        "        if isinstance(node, ast.Constant) and isinstance(node.value, (int, float)):\n",
        "            return node.value\n",
        "        if isinstance(node, ast.BinOp) and type(node.op) in allowed_ops:\n",
        "            return allowed_ops[type(node.op)](_eval(node.left), _eval(node.right))\n",
        "        if isinstance(node, ast.UnaryOp) and type(node.op) in allowed_ops:\n",
        "            return allowed_ops[type(node.op)](_eval(node.operand))\n",
        "        if isinstance(node, ast.Expression):\n",
        "            return _eval(node.body)\n",
        "        raise ValueError(\"Disallowed expression in calculator\")\n",
        "\n",
        "    tree = ast.parse(expr, mode=\"eval\")\n",
        "    return float(_eval(tree))\n",
        "\n",
        "\n",
        "def tool_calculator(args: Dict[str, Any]) -> str:\n",
        "    \"\"\"Evaluate a basic arithmetic expression and return the numeric result.\n",
        "\n",
        "    Args schema: {\"expression\": \"3*(7+5)\"}\n",
        "    \"\"\"\n",
        "    expr = args.get(\"expression\", \"\")\n",
        "    if not isinstance(expr, str) or not expr:\n",
        "        raise ValueError(\"Missing 'expression' string for calculator\")\n",
        "    value = _safe_eval_arith(expr)\n",
        "    return str(value)\n",
        "\n",
        "\n",
        "def tool_search(args: Dict[str, Any]) -> str:\n",
        "    \"\"\"A stub search tool that returns a canned result list.\n",
        "\n",
        "    Replace with a real search API in your environment if desired.\n",
        "    Args schema: {\"query\": \"...\"}\n",
        "    \"\"\"\n",
        "    query = args.get(\"query\", \"\")\n",
        "    results = [\n",
        "        {\"title\": \"Example Result A\", \"url\": \"https://example.com/a\"},\n",
        "        {\"title\": \"Example Result B\", \"url\": \"https://example.com/b\"},\n",
        "    ]\n",
        "    return json.dumps({\"query\": query, \"results\": results})\n",
        "\n",
        "\n",
        "TOOL_REGISTRY = {\n",
        "    \"get_current_time\": tool_get_current_time,\n",
        "    \"calculator\": tool_calculator,\n",
        "    \"search\": tool_search,\n",
        "}\n"
      ]
    },
    {
      "cell_type": "code",
      "execution_count": 5,
      "metadata": {},
      "outputs": [],
      "source": [
        "TOOL_SPECS = [\n",
        "    {\n",
        "        'type': 'function',\n",
        "        'function': {\n",
        "            'name': 'get_current_time',\n",
        "            'description': 'Get the current UTC time as ISO 8601 string.',\n",
        "            'parameters': {'type': 'object', 'properties': {}, 'additionalProperties': False},\n",
        "        },\n",
        "    },\n",
        "    {\n",
        "        'type': 'function',\n",
        "        'function': {\n",
        "            'name': 'calculator',\n",
        "            'description': 'Evaluate a basic arithmetic expression.',\n",
        "            'parameters': {\n",
        "                'type': 'object',\n",
        "                'properties': {'expression': {'type': 'string'}},\n",
        "                'required': ['expression'],\n",
        "                'additionalProperties': False,\n",
        "            },\n",
        "        },\n",
        "    },\n",
        "    {\n",
        "        'type': 'function',\n",
        "        'function': {\n",
        "            'name': 'search',\n",
        "            'description': 'Search the web and return JSON results (stub).',\n",
        "            'parameters': {\n",
        "                'type': 'object',\n",
        "                'properties': {'query': {'type': 'string'}},\n",
        "                'required': ['query'],\n",
        "                'additionalProperties': False,\n",
        "            },\n",
        "        },\n",
        "    },\n",
        "]\n",
        "\n",
        "SYSTEM_PROMPT = (\n",
        "    'You are a helpful assistant. '\n",
        "    'Use tools when they help produce accurate answers. '\n",
        "    'If you used tools, cite their results succinctly.'\n",
        ")\n"
      ]
    },
    {
      "cell_type": "markdown",
      "metadata": {},
      "source": [
        "## Agent runner"
      ]
    },
    {
      "cell_type": "code",
      "execution_count": 6,
      "metadata": {},
      "outputs": [],
      "source": [
        "def run_agent(user_input: str, model: str | None = None) -> str:\n",
        "    \"\"\"Run a simple tool-using agent for a single user input.\n",
        "\n",
        "    Returns the assistant's final message content as text.\n",
        "    \"\"\"\n",
        "    if not os.environ.get('OPENAI_API_KEY'):\n",
        "        raise SystemExit('OPENAI_API_KEY not set in environment')\n",
        "\n",
        "    client = OpenAI()\n",
        "    chosen_model = model or os.environ.get('OPENAI_MODEL', 'gpt-4o-mini')\n",
        "\n",
        "    messages: List[Dict[str, Any]] = [\n",
        "        {'role': 'system', 'content': SYSTEM_PROMPT},\n",
        "        {'role': 'user', 'content': user_input},\n",
        "    ]\n",
        "\n",
        "    resp = client.chat.completions.create(\n",
        "        model=chosen_model,\n",
        "        messages=messages,\n",
        "        tools=TOOL_SPECS,\n",
        "        tool_choice='auto',\n",
        "        temperature=0.2,\n",
        "    )\n",
        "\n",
        "    msg = resp.choices[0].message\n",
        "    # Keep assistant message (including tool_calls, if any)\n",
        "    try:\n",
        "        messages.append(msg.dict(exclude_none=True))\n",
        "    except Exception:\n",
        "        messages.append({'role': 'assistant', 'content': msg.content, 'tool_calls': msg.tool_calls})\n",
        "\n",
        "    if msg.tool_calls:\n",
        "        for call in msg.tool_calls:\n",
        "            name = call.function.name\n",
        "            args_json = call.function.arguments or '{}'\n",
        "            try:\n",
        "                args = json.loads(args_json)\n",
        "            except json.JSONDecodeError:\n",
        "                args = {'_raw': args_json}\n",
        "\n",
        "            if name not in TOOL_REGISTRY:\n",
        "                tool_output = f\"Tool '{name}' not implemented.\"\n",
        "            else:\n",
        "                try:\n",
        "                    tool_output = TOOL_REGISTRY[name](args)\n",
        "                except Exception as e:\n",
        "                    tool_output = f\"Error in tool '{name}': {e}\"\n",
        "\n",
        "            messages.append({\n",
        "                'role': 'tool',\n",
        "                'tool_call_id': call.id,\n",
        "                'name': name,\n",
        "                'content': tool_output,\n",
        "            })\n",
        "\n",
        "        resp = client.chat.completions.create(\n",
        "            model=chosen_model,\n",
        "            messages=messages,\n",
        "            temperature=0.2,\n",
        "        )\n",
        "\n",
        "    final_msg = resp.choices[0].message\n",
        "    return final_msg.content or ''\n"
      ]
    },
    {
      "cell_type": "markdown",
      "metadata": {},
      "source": [
        "## Quick test"
      ]
    },
    {
      "cell_type": "code",
      "execution_count": 7,
      "metadata": {},
      "outputs": [
        {
          "name": "stderr",
          "output_type": "stream",
          "text": [
            "/tmp/ipykernel_145628/240858138.py:28: PydanticDeprecatedSince20: The `dict` method is deprecated; use `model_dump` instead. Deprecated in Pydantic V2.0 to be removed in V3.0. See Pydantic V2 Migration Guide at https://errors.pydantic.dev/2.10/migration/\n",
            "  messages.append(msg.dict(exclude_none=True))\n",
            "/tmp/ipykernel_145628/2728057805.py:25: DeprecationWarning: ast.Num is deprecated and will be removed in Python 3.14; use ast.Constant instead\n",
            "  if isinstance(node, ast.Num):  # type: ignore[attr-defined]\n",
            "/tmp/ipykernel_145628/2728057805.py:26: DeprecationWarning: Attribute n is deprecated and will be removed in Python 3.14; use value instead\n",
            "  return node.n\n"
          ]
        },
        {
          "name": "stdout",
          "output_type": "stream",
          "text": [
            "The result of \\( 3 \\times (7 + 5) \\) is 36. \n",
            "\n",
            "As for the current time, it is 00:36 UTC on August 31, 2025.\n"
          ]
        }
      ],
      "source": [
        "print(run_agent(\"What is 3*(7+5), and what time is it?\"))"
      ]
    },
    {
      "cell_type": "markdown",
      "metadata": {},
      "source": [
        "## Your own question"
      ]
    },
    {
      "cell_type": "code",
      "execution_count": 8,
      "metadata": {},
      "outputs": [
        {
          "name": "stdout",
          "output_type": "stream",
          "text": [
            "I used the following tools:\n",
            "\n",
            "1. **functions.get_current_time**: This tool retrieves the current UTC time in ISO 8601 format.\n",
            "2. **functions.calculator**: This tool evaluates basic arithmetic expressions.\n",
            "3. **functions.search**: This tool searches the web for information based on a query.\n",
            "\n",
            "However, I did not execute any specific queries or calculations in this instance, so there are no results to summarize. If you have a specific request or question, please let me know!\n"
          ]
        },
        {
          "name": "stderr",
          "output_type": "stream",
          "text": [
            "/tmp/ipykernel_145628/240858138.py:28: PydanticDeprecatedSince20: The `dict` method is deprecated; use `model_dump` instead. Deprecated in Pydantic V2.0 to be removed in V3.0. See Pydantic V2 Migration Guide at https://errors.pydantic.dev/2.10/migration/\n",
            "  messages.append(msg.dict(exclude_none=True))\n"
          ]
        }
      ],
      "source": [
        "query = \"Summarize what tools you used and the result.\"\n",
        "print(run_agent(query))"
      ]
    }
  ],
  "metadata": {
    "kernelspec": {
      "display_name": "agents",
      "language": "python",
      "name": "python3"
    },
    "language_info": {
      "codemirror_mode": {
        "name": "ipython",
        "version": 3
      },
      "file_extension": ".py",
      "mimetype": "text/x-python",
      "name": "python",
      "nbconvert_exporter": "python",
      "pygments_lexer": "ipython3",
      "version": "3.12.8"
    }
  },
  "nbformat": 4,
  "nbformat_minor": 5
}
