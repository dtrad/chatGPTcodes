{
 "cells": [
  {
   "cell_type": "code",
   "execution_count": 1,
   "metadata": {},
   "outputs": [
    {
     "name": "stdout",
     "output_type": "stream",
     "text": [
      "Company name: Rainbow Socks Co.\n"
     ]
    }
   ],
   "source": [
    "import os\n",
    "import openai\n",
    "from langchain import LLMChain, PromptTemplate\n",
    "from langchain.chat_models import ChatOpenAI  # Use ChatOpenAI for chat models\n",
    "\n",
    "# Set your OpenAI API key\n",
    "os.environ[\"OPENAI_API_KEY\"] = os.getenv('AOAI_KEY')\n",
    "\n",
    "\n",
    "# Initialize the chat model with the correct endpoint\n",
    "llm = ChatOpenAI(model=\"gpt-3.5-turbo\", temperature=0.7)\n",
    "\n",
    "# Define the prompt template\n",
    "template = \"What is a good name for a company that makes {product}?\"\n",
    "prompt = PromptTemplate.from_template(template)\n",
    "\n",
    "# Create the LLMChain\n",
    "chain = LLMChain(prompt=prompt, llm=llm)\n",
    "\n",
    "# Example usage of LLMChain\n",
    "product = \"colorful socks\"\n",
    "result = chain.run(product=product)\n",
    "\n",
    "print(\"Company name:\", result)\n"
   ]
  }
 ],
 "metadata": {
  "kernelspec": {
   "display_name": "langchain0",
   "language": "python",
   "name": "python3"
  },
  "language_info": {
   "codemirror_mode": {
    "name": "ipython",
    "version": 3
   },
   "file_extension": ".py",
   "mimetype": "text/x-python",
   "name": "python",
   "nbconvert_exporter": "python",
   "pygments_lexer": "ipython3",
   "version": "3.12.5"
  }
 },
 "nbformat": 4,
 "nbformat_minor": 2
}
