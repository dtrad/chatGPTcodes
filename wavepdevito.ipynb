{
 "cells": [
  {
   "cell_type": "code",
   "execution_count": 6,
   "metadata": {},
   "outputs": [
    {
     "ename": "ModuleNotFoundError",
     "evalue": "No module named 'devito'",
     "output_type": "error",
     "traceback": [
      "\u001b[0;31m---------------------------------------------------------------------------\u001b[0m",
      "\u001b[0;31mModuleNotFoundError\u001b[0m                       Traceback (most recent call last)",
      "Cell \u001b[0;32mIn[6], line 1\u001b[0m\n\u001b[0;32m----> 1\u001b[0m \u001b[39mfrom\u001b[39;00m \u001b[39mdevito\u001b[39;00m \u001b[39mimport\u001b[39;00m Grid, TimeFunction, Eq, solve, Operator\n",
      "\u001b[0;31mModuleNotFoundError\u001b[0m: No module named 'devito'"
     ]
    }
   ],
   "source": [
    "from devito import Grid, TimeFunction, Eq, solve, Operator"
   ]
  },
  {
   "cell_type": "code",
   "execution_count": 7,
   "metadata": {},
   "outputs": [
    {
     "name": "stdout",
     "output_type": "stream",
     "text": [
      "Python 3.11.4\n"
     ]
    }
   ],
   "source": [
    "!python --version"
   ]
  },
  {
   "cell_type": "code",
   "execution_count": null,
   "metadata": {},
   "outputs": [],
   "source": [
    "\n",
    "\n",
    "# Create a computational grid\n",
    "grid = Grid(shape=(101, 101), extent=(1.0, 1.0))\n",
    "\n",
    "# Define the wavefield as a time-dependent function\n",
    "u = TimeFunction(name='u', grid=grid, time_order=2, space_order=4)\n",
    "\n",
    "# Define the wave equation\n",
    "eq = Eq(u.dt2 - u.laplace + 1.0, 0)\n",
    "\n",
    "# Define the source term\n",
    "src = grid.inject(u.forward, expr=grid.stepping_dim.spacing**2 * 10.0)\n",
    "\n",
    "# Create an operator to solve the equation\n",
    "op = Operator([eq] + src)\n",
    "\n",
    "# Set up simulation parameters\n",
    "timesteps = 100\n",
    "dt = 0.001\n",
    "\n",
    "# Execute the operator for the given number of timesteps\n",
    "op.apply(time=timesteps, dt=dt)\n",
    "\n",
    "# Access the final wavefield\n",
    "final_wavefield = u.data[timesteps, :, :]\n",
    "\n",
    "# Perform visualization or analysis with the wavefield\n",
    "# ...\n"
   ]
  }
 ],
 "metadata": {
  "kernelspec": {
   "display_name": "devito",
   "language": "python",
   "name": "python3"
  },
  "language_info": {
   "codemirror_mode": {
    "name": "ipython",
    "version": 3
   },
   "file_extension": ".py",
   "mimetype": "text/x-python",
   "name": "python",
   "nbconvert_exporter": "python",
   "pygments_lexer": "ipython3",
   "version": "3.11.4"
  },
  "orig_nbformat": 4
 },
 "nbformat": 4,
 "nbformat_minor": 2
}
