{
 "cells": [
  {
   "cell_type": "code",
   "execution_count": 1,
   "metadata": {},
   "outputs": [
    {
     "name": "stdout",
     "output_type": "stream",
     "text": [
      "Conversion completed. Output saved to: 003.mp4\n"
     ]
    }
   ],
   "source": [
    "import cv2\n",
    "\n",
    "# Input and output file paths\n",
    "input_file = \"003.AVI\"\n",
    "output_file = \"003.mp4\"\n",
    "\n",
    "# Open the input video\n",
    "cap = cv2.VideoCapture(input_file)\n",
    "\n",
    "# Check if the video file opened successfully\n",
    "if not cap.isOpened():\n",
    "    print(\"Error: Could not open the input video file.\")\n",
    "    exit()\n",
    "\n",
    "# Get video properties\n",
    "fps = cap.get(cv2.CAP_PROP_FPS)               # Frames per second\n",
    "frame_width = int(cap.get(cv2.CAP_PROP_FRAME_WIDTH))\n",
    "frame_height = int(cap.get(cv2.CAP_PROP_FRAME_HEIGHT))\n",
    "fourcc = cv2.VideoWriter_fourcc(*'mp4v')      # Codec for MP4\n",
    "\n",
    "# Create a VideoWriter object for the output\n",
    "out = cv2.VideoWriter(output_file, fourcc, fps, (frame_width, frame_height))\n",
    "\n",
    "# Process the video frame by frame\n",
    "while True:\n",
    "    ret, frame = cap.read()  # Read a frame\n",
    "    if not ret:\n",
    "        break  # End of video\n",
    "\n",
    "    out.write(frame)  # Write the frame to the output file\n",
    "\n",
    "# Release resources\n",
    "cap.release()\n",
    "out.release()\n",
    "\n",
    "print(\"Conversion completed. Output saved to:\", output_file)\n"
   ]
  }
 ],
 "metadata": {
  "kernelspec": {
   "display_name": "general",
   "language": "python",
   "name": "python3"
  },
  "language_info": {
   "codemirror_mode": {
    "name": "ipython",
    "version": 3
   },
   "file_extension": ".py",
   "mimetype": "text/x-python",
   "name": "python",
   "nbconvert_exporter": "python",
   "pygments_lexer": "ipython3",
   "version": "3.12.4"
  }
 },
 "nbformat": 4,
 "nbformat_minor": 2
}
