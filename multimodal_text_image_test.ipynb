{
 "cells": [
  {
   "cell_type": "markdown",
   "metadata": {},
   "source": [
    "# Multimodal Transformer: Image + Text Test\n",
    "\n",
    "This notebook demonstrates a simple multimodal transformer pipeline using CLIP (OpenAI) from Hugging Face Transformers.\n",
    "It compares an input image with one or more text prompts and reports similarity scores.\n",
    "\n",
    "Notes:\n",
    "- Uses `openai/clip-vit-base-patch32`. On first run, it downloads model weights.\n",
    "- If your environment lacks internet, run where these are cached or install/download ahead of time.\n",
    "- Works on CPU by default; uses GPU automatically if available."
   ]
  },
  {
   "cell_type": "markdown",
   "metadata": {},
   "source": [
    "## Setup\n",
    "\n",
    "If required packages are missing, install them via pip. In Jupyter you can use `%pip` (uncomment below).\n",
    "If your environment has no network, ensure these packages and model weights are preinstalled/cached.\n",
    "\n",
    "```python\n",
    "%pip install torch torchvision transformers pillow\n",
    "```"
   ]
  },
  {
   "cell_type": "code",
   "execution_count": 1,
   "metadata": {},
   "outputs": [
    {
     "name": "stderr",
     "output_type": "stream",
     "text": [
      "/home/dtrad/anaconda3/envs/arvin/lib/python3.11/site-packages/tqdm/auto.py:21: TqdmWarning: IProgress not found. Please update jupyter and ipywidgets. See https://ipywidgets.readthedocs.io/en/stable/user_install.html\n",
      "  from .autonotebook import tqdm as notebook_tqdm\n",
      "2025-09-02 11:35:23.740986: I tensorflow/core/util/port.cc:113] oneDNN custom operations are on. You may see slightly different numerical results due to floating-point round-off errors from different computation orders. To turn them off, set the environment variable `TF_ENABLE_ONEDNN_OPTS=0`.\n",
      "2025-09-02 11:35:23.846493: I tensorflow/core/platform/cpu_feature_guard.cc:210] This TensorFlow binary is optimized to use available CPU instructions in performance-critical operations.\n",
      "To enable the following instructions: SSE4.1 SSE4.2 AVX AVX2 AVX512F AVX512_VNNI AVX512_BF16 FMA, in other operations, rebuild TensorFlow with the appropriate compiler flags.\n"
     ]
    },
    {
     "data": {
      "text/plain": [
       "'cuda'"
      ]
     },
     "execution_count": 1,
     "metadata": {},
     "output_type": "execute_result"
    }
   ],
   "source": [
    "import torch\n",
    "from PIL import Image\n",
    "from transformers import CLIPProcessor, CLIPModel\n",
    "\n",
    "device = 'cuda' if torch.cuda.is_available() else 'cpu'\n",
    "device"
   ]
  },
  {
   "cell_type": "code",
   "execution_count": 2,
   "metadata": {},
   "outputs": [
    {
     "name": "stdout",
     "output_type": "stream",
     "text": [
      "Loaded openai/clip-vit-base-patch32 on cuda\n"
     ]
    }
   ],
   "source": [
    "model_name = 'openai/clip-vit-base-patch32'\n",
    "\n",
    "# Loads processor and model (downloads weights on first run if not cached)\n",
    "processor = CLIPProcessor.from_pretrained(model_name)\n",
    "model = CLIPModel.from_pretrained(model_name)\n",
    "model = model.to(device)\n",
    "print(f'Loaded {model_name} on {device}')"
   ]
  },
  {
   "cell_type": "code",
   "execution_count": 3,
   "metadata": {},
   "outputs": [],
   "source": [
    "from typing import List, Tuple, Union\n",
    "\n",
    "def clip_similarity(image_path: str, texts: Union[str, List[str]], top_k: int = 5) -> List[Tuple[str, float]]:\n",
    "    \"\"\"\n",
    "    Compute CLIP similarity between an image and one or more text prompts.\n",
    "\n",
    "    Returns a list of (text, probability) sorted by probability descending.\n",
    "    \"\"\"\n",
    "    if isinstance(texts, str):\n",
    "        texts = [texts]\n",
    "    assert len(texts) > 0, 'texts must be non-empty'\n",
    "\n",
    "    image = Image.open(image_path).convert('RGB')\n",
    "    inputs = processor(text=texts, images=image, return_tensors='pt', padding=True)\n",
    "    inputs = {k: v.to(device) for k, v in inputs.items()}\n",
    "\n",
    "    with torch.no_grad():\n",
    "        outputs = model(**inputs)\n",
    "        logits_per_image = outputs.logits_per_image  # shape: [batch=1, num_texts]\n",
    "        probs = logits_per_image.softmax(dim=1)\n",
    "\n",
    "    probs = probs[0].detach().cpu()\n",
    "    sorted_idx = probs.argsort(descending=True)[:top_k]\n",
    "    return [(texts[i], float(probs[i])) for i in sorted_idx]\n",
    "\n",
    "def pretty_print(results: List[Tuple[str, float]]):\n",
    "    for text, p in results:\n",
    "        print(f'{p:.3f}  {text}')"
   ]
  },
  {
   "cell_type": "markdown",
   "metadata": {},
   "source": [
    "## Try it with multiple candidate texts\n",
    "Update `image_path` to point to a local image file, then run the cell to see which text best matches the image."
   ]
  },
  {
   "cell_type": "code",
   "execution_count": 5,
   "metadata": {},
   "outputs": [
    {
     "name": "stdout",
     "output_type": "stream",
     "text": [
      "1.000  a scenic mountain landscape\n",
      "0.000  a person riding a bike\n",
      "0.000  a dog playing in the park\n",
      "0.000  a cat sitting on a sofa\n"
     ]
    }
   ],
   "source": [
    "# Change this to a valid local image path\n",
    "image_path = '/home/dtrad/Downloads/images/hill.png'\n",
    "\n",
    "candidate_texts = [\n",
    "    'a dog playing in the park',\n",
    "    'a cat sitting on a sofa',\n",
    "    'a person riding a bike',\n",
    "    'a scenic mountain landscape',\n",
    "]\n",
    "\n",
    "results = clip_similarity(image_path, candidate_texts, top_k=len(candidate_texts))\n",
    "pretty_print(results)"
   ]
  },
  {
   "cell_type": "markdown",
   "metadata": {},
   "source": [
    "## Try it with a single text\n",
    "You can also test a single text prompt; the function returns a single (text, probability) pair."
   ]
  },
  {
   "cell_type": "code",
   "execution_count": 6,
   "metadata": {},
   "outputs": [
    {
     "data": {
      "text/plain": [
       "('a photo of a black dog', 1.0)"
      ]
     },
     "execution_count": 6,
     "metadata": {},
     "output_type": "execute_result"
    }
   ],
   "source": [
    "image_path = '/home/dtrad/Downloads/images/parrot.png'  # <- change this\n",
    "text = 'a photo of a black dog'\n",
    "clip_similarity(image_path, text, top_k=1)[0]"
   ]
  },
  {
   "cell_type": "markdown",
   "metadata": {},
   "source": [
    "## Tips\n",
    "- First run downloads model weights (~400MB). Subsequent runs use the local cache.\n",
    "- For offline use, pre-download the model by running this notebook once with internet or by manually caching via `transformers` CLI.\n",
    "- GPU is used automatically if `torch.cuda.is_available()` is true. Otherwise, it runs on CPU."
   ]
  }
 ],
 "metadata": {
  "kernelspec": {
   "display_name": "arvin",
   "language": "python",
   "name": "python3"
  },
  "language_info": {
   "codemirror_mode": {
    "name": "ipython",
    "version": 3
   },
   "file_extension": ".py",
   "mimetype": "text/x-python",
   "name": "python",
   "nbconvert_exporter": "python",
   "pygments_lexer": "ipython3",
   "version": "3.11.6"
  }
 },
 "nbformat": 4,
 "nbformat_minor": 5
}
