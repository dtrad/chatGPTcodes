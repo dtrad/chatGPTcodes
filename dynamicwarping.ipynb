{
 "cells": [
  {
   "cell_type": "code",
   "execution_count": 10,
   "metadata": {},
   "outputs": [],
   "source": [
    "# In this example, we will use the dynamic time warping algorithm to align two time series with different lengths.\n",
    "# The algorithm is implemented in the dtw module of the dtaidistance package.\n",
    "# The algorithm is based on the following paper:\n",
    "#     Dynamic Time Warping Algorithm Review\n",
    "#     Salvador, S. & Chan, P. (2007)\n",
    "#     Information Systems\n"
   ]
  },
  {
   "cell_type": "code",
   "execution_count": 11,
   "metadata": {},
   "outputs": [],
   "source": [
    "import numpy as np\n",
    "from scipy.spatial.distance import euclidean\n",
    "from fastdtw import fastdtw\n",
    "\n",
    "# Generate two example time series\n",
    "time_series1 = np.array([1, 2, 3, 4, 5], dtype=float)\n",
    "time_series2 = np.array([1, 2, 3, 4, 5, 6, 7], dtype=float)\n",
    "\n",
    "# Define a custom distance function (in this case, Euclidean distance)\n",
    "def euclidean_distance(x, y):\n",
    "    return euclidean(x, y)"
   ]
  },
  {
   "cell_type": "code",
   "execution_count": 12,
   "metadata": {},
   "outputs": [],
   "source": [
    "# add a dimension to the time series\n",
    "time_series1 = time_series1.reshape(-1, 1)\n",
    "time_series2 = time_series2.reshape(-1, 1)\n"
   ]
  },
  {
   "cell_type": "code",
   "execution_count": 13,
   "metadata": {},
   "outputs": [
    {
     "data": {
      "text/plain": [
       "(7, 1)"
      ]
     },
     "execution_count": 13,
     "metadata": {},
     "output_type": "execute_result"
    }
   ],
   "source": [
    "time_series1.shape\n",
    "time_series2.shape"
   ]
  },
  {
   "cell_type": "code",
   "execution_count": 14,
   "metadata": {},
   "outputs": [
    {
     "name": "stdout",
     "output_type": "stream",
     "text": [
      "DTW Distance: 3.0\n",
      "Alignment Path: [(0, 0), (1, 1), (2, 2), (3, 3), (4, 4), (4, 5), (4, 6)]\n"
     ]
    }
   ],
   "source": [
    "# Calculate the DTW distance and alignment using fastdtw\n",
    "distance, path = fastdtw(time_series1, time_series2, dist=euclidean_distance)\n",
    "\n",
    "# Print the DTW distance\n",
    "print(\"DTW Distance:\", distance)\n",
    "\n",
    "# Print the alignment path\n",
    "print(\"Alignment Path:\", path)\n"
   ]
  },
  {
   "cell_type": "code",
   "execution_count": null,
   "metadata": {},
   "outputs": [],
   "source": []
  }
 ],
 "metadata": {
  "kernelspec": {
   "display_name": "tfgpu3",
   "language": "python",
   "name": "python3"
  },
  "language_info": {
   "codemirror_mode": {
    "name": "ipython",
    "version": 3
   },
   "file_extension": ".py",
   "mimetype": "text/x-python",
   "name": "python",
   "nbconvert_exporter": "python",
   "pygments_lexer": "ipython3",
   "version": "3.11.0"
  },
  "orig_nbformat": 4
 },
 "nbformat": 4,
 "nbformat_minor": 2
}
