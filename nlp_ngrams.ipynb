{
 "cells": [
  {
   "cell_type": "code",
   "execution_count": 1,
   "metadata": {},
   "outputs": [
    {
     "name": "stderr",
     "output_type": "stream",
     "text": [
      "2023-02-14 19:27:54.102966: I tensorflow/core/platform/cpu_feature_guard.cc:193] This TensorFlow binary is optimized with oneAPI Deep Neural Network Library (oneDNN) to use the following CPU instructions in performance-critical operations:  SSE4.1 SSE4.2 AVX AVX2 FMA\n",
      "To enable them in other operations, rebuild TensorFlow with the appropriate compiler flags.\n"
     ]
    },
    {
     "name": "stdout",
     "output_type": "stream",
     "text": [
      "Word Index:  {'the': 1, 'quick': 2, 'brown': 3, 'fox': 4, 'lazy': 5, 'dog': 6, 'is': 7, 'jumps': 8, 'over': 9, 'sleeping': 10, 'fast': 11}\n",
      "N-Gram Index:  {'the': 1, 'quick': 2, 'brown': 3, 'fox': 4, 'lazy': 5, 'is': 6, 'dog': 7, 'jumps': 8, 'over': 9, 'sleeping': 10, 'fast': 11}\n",
      "N-Gram Sequences:  [[1, 2], [2, 3], [3, 4], [4, 8], [8, 9], [9, 1], [1, 5], [5, 7], [1, 5], [5, 7], [7, 6], [6, 10], [1, 2], [2, 3], [3, 4], [4, 6], [6, 11]]\n",
      "Padded N-Gram Sequences:  [[ 1  2]\n",
      " [ 2  3]\n",
      " [ 3  4]\n",
      " [ 4  8]\n",
      " [ 8  9]\n",
      " [ 9  1]\n",
      " [ 1  5]\n",
      " [ 5  7]\n",
      " [ 1  5]\n",
      " [ 5  7]\n",
      " [ 7  6]\n",
      " [ 6 10]\n",
      " [ 1  2]\n",
      " [ 2  3]\n",
      " [ 3  4]\n",
      " [ 4  6]\n",
      " [ 6 11]]\n"
     ]
    }
   ],
   "source": [
    "import tensorflow as tf\n",
    "from tensorflow.keras.preprocessing.text import Tokenizer\n",
    "from tensorflow.keras.preprocessing.sequence import pad_sequences\n",
    "\n",
    "# Example sentences\n",
    "sentences = [\n",
    "  \"The quick brown fox jumps over the lazy dog\",\n",
    "  \"The lazy dog is sleeping\",\n",
    "  \"The quick brown fox is fast\"\n",
    "]\n",
    "\n",
    "# Tokenize the sentences\n",
    "tokenizer = Tokenizer()\n",
    "tokenizer.fit_on_texts(sentences)\n",
    "word_index = tokenizer.word_index\n",
    "\n",
    "# Convert the sentences to sequences of n-grams\n",
    "n_gram = 2\n",
    "sequences = []\n",
    "for sentence in sentences:\n",
    "  words = sentence.split()\n",
    "  for i in range(len(words)-n_gram+1):\n",
    "    sequence = ' '.join(words[i:i+n_gram])\n",
    "    sequences.append(sequence)\n",
    "\n",
    "# Tokenize the n-grams\n",
    "tokenizer = Tokenizer()\n",
    "tokenizer.fit_on_texts(sequences)\n",
    "ngram_index = tokenizer.word_index\n",
    "\n",
    "# Convert the n-grams to sequences of integers\n",
    "ngram_sequences = tokenizer.texts_to_sequences(sequences)\n",
    "\n",
    "# Pad the n-gram sequences\n",
    "max_length = max([len(seq) for seq in ngram_sequences])\n",
    "padded_sequences = pad_sequences(ngram_sequences, maxlen=max_length, padding='post')\n",
    "\n",
    "# Print the results\n",
    "print(\"Word Index: \", word_index)\n",
    "print(\"N-Gram Index: \", ngram_index)\n",
    "print(\"N-Gram Sequences: \", ngram_sequences)\n",
    "print(\"Padded N-Gram Sequences: \", padded_sequences)\n"
   ]
  }
 ],
 "metadata": {
  "kernelspec": {
   "display_name": "tfgpu",
   "language": "python",
   "name": "python3"
  },
  "language_info": {
   "codemirror_mode": {
    "name": "ipython",
    "version": 3
   },
   "file_extension": ".py",
   "mimetype": "text/x-python",
   "name": "python",
   "nbconvert_exporter": "python",
   "pygments_lexer": "ipython3",
   "version": "3.9.15"
  },
  "orig_nbformat": 4,
  "vscode": {
   "interpreter": {
    "hash": "bcb505fb65f009327e3568b030955b94ed789ec146fa5e9e6be7faa0a986839b"
   }
  }
 },
 "nbformat": 4,
 "nbformat_minor": 2
}
