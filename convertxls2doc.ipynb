{
 "cells": [
  {
   "cell_type": "code",
   "execution_count": 1,
   "metadata": {},
   "outputs": [],
   "source": [
    "import openpyxl\n",
    "from docx import Document\n",
    "from docx.shared import Inches\n",
    "\n",
    "# Open the Excel file\n",
    "workbook = openpyxl.load_workbook('ps.xlsx')\n",
    "\n",
    "# Get the first sheet in the workbook\n",
    "sheet = workbook.active\n",
    "\n",
    "# Create a new Word document\n",
    "document = Document()\n",
    "\n",
    "# Loop through each row in the Excel sheet\n",
    "for row in sheet.iter_rows():\n",
    "    # Create a new paragraph in the Word document\n",
    "    paragraph = document.add_paragraph()\n",
    "    \n",
    "    # Loop through each cell in the row\n",
    "    for cell in row:\n",
    "        # Add the cell value to the paragraph\n",
    "        paragraph.add_run(str(cell.value))\n",
    "        paragraph.add_run('\\t') # add tab to separate the cells\n",
    "    \n",
    "    # Add a new line at the end of the paragraph\n",
    "    paragraph.add_run('\\n')\n",
    "\n",
    "# Save the Word document\n",
    "document.save('ps2.docx')\n"
   ]
  }
 ],
 "metadata": {
  "kernelspec": {
   "display_name": "tfgpu2",
   "language": "python",
   "name": "python3"
  },
  "language_info": {
   "codemirror_mode": {
    "name": "ipython",
    "version": 3
   },
   "file_extension": ".py",
   "mimetype": "text/x-python",
   "name": "python",
   "nbconvert_exporter": "python",
   "pygments_lexer": "ipython3",
   "version": "3.10.10"
  },
  "orig_nbformat": 4
 },
 "nbformat": 4,
 "nbformat_minor": 2
}
