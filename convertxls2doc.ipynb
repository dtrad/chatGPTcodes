{
 "cells": [
  {
   "cell_type": "code",
   "execution_count": 1,
   "metadata": {},
   "outputs": [
    {
     "ename": "ModuleNotFoundError",
     "evalue": "No module named 'openpyxl'",
     "output_type": "error",
     "traceback": [
      "\u001b[0;31m---------------------------------------------------------------------------\u001b[0m",
      "\u001b[0;31mModuleNotFoundError\u001b[0m                       Traceback (most recent call last)",
      "Cell \u001b[0;32mIn[1], line 1\u001b[0m\n\u001b[0;32m----> 1\u001b[0m \u001b[39mimport\u001b[39;00m \u001b[39mopenpyxl\u001b[39;00m\n\u001b[1;32m      2\u001b[0m \u001b[39mfrom\u001b[39;00m \u001b[39mdocx\u001b[39;00m \u001b[39mimport\u001b[39;00m Document\n\u001b[1;32m      3\u001b[0m \u001b[39mfrom\u001b[39;00m \u001b[39mdocx\u001b[39;00m\u001b[39m.\u001b[39;00m\u001b[39mshared\u001b[39;00m \u001b[39mimport\u001b[39;00m Inches\n",
      "\u001b[0;31mModuleNotFoundError\u001b[0m: No module named 'openpyxl'"
     ]
    }
   ],
   "source": [
    "import openpyxl\n",
    "from docx import Document\n",
    "from docx.shared import Inches\n",
    "\n",
    "# Open the Excel file\n",
    "workbook = openpyxl.load_workbook('ps.xlsx')\n",
    "\n",
    "# Get the first sheet in the workbook\n",
    "sheet = workbook.active\n",
    "\n",
    "# Create a new Word document\n",
    "document = Document()\n",
    "\n",
    "# Loop through each row in the Excel sheet\n",
    "for row in sheet.iter_rows():\n",
    "    # Create a new paragraph in the Word document\n",
    "    paragraph = document.add_paragraph()\n",
    "    \n",
    "    # Loop through each cell in the row\n",
    "    for cell in row:\n",
    "        # Add the cell value to the paragraph\n",
    "        paragraph.add_run(str(cell.value))\n",
    "        paragraph.add_run('\\t') # add tab to separate the cells\n",
    "    \n",
    "    # Add a new line at the end of the paragraph\n",
    "    paragraph.add_run('\\n')\n",
    "\n",
    "# Save the Word document\n",
    "document.save('ps2.docx')\n"
   ]
  }
 ],
 "metadata": {
  "kernelspec": {
   "display_name": "tfgpu2",
   "language": "python",
   "name": "python3"
  },
  "language_info": {
   "codemirror_mode": {
    "name": "ipython",
    "version": 3
   },
   "file_extension": ".py",
   "mimetype": "text/x-python",
   "name": "python",
   "nbconvert_exporter": "python",
   "pygments_lexer": "ipython3",
   "version": "3.9.15"
  },
  "orig_nbformat": 4
 },
 "nbformat": 4,
 "nbformat_minor": 2
}
