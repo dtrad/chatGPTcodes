{
 "cells": [
  {
   "cell_type": "code",
   "execution_count": 1,
   "metadata": {},
   "outputs": [],
   "source": [
    "import numpy as np\n",
    "import scipy.optimize as opt\n"
   ]
  },
  {
   "cell_type": "code",
   "execution_count": 2,
   "metadata": {},
   "outputs": [],
   "source": [
    "def load_seismic_data():\n",
    "    x=np.array([10, 20])\n",
    "    return x"
   ]
  },
  {
   "cell_type": "code",
   "execution_count": 3,
   "metadata": {},
   "outputs": [],
   "source": [
    "def initialize_velocity_model():\n",
    "    m=np.array([10,10])\n",
    "    return m"
   ]
  },
  {
   "cell_type": "code",
   "execution_count": 4,
   "metadata": {},
   "outputs": [],
   "source": [
    "# Pre-processing: load and prepare seismic data\n",
    "seismic_data = load_seismic_data()  # function to load seismic data\n",
    "velocity_model_initial = initialize_velocity_model()  # function to initialize velocity model"
   ]
  },
  {
   "cell_type": "code",
   "execution_count": 5,
   "metadata": {},
   "outputs": [],
   "source": [
    "def forward_modeling(velocity_model):\n",
    "    x = np.array([[1,2],[2,3]])*velocity_model\n",
    "    return x"
   ]
  },
  {
   "attachments": {},
   "cell_type": "markdown",
   "metadata": {},
   "source": [
    "## example with inverse crime"
   ]
  },
  {
   "cell_type": "code",
   "execution_count": 9,
   "metadata": {},
   "outputs": [],
   "source": [
    "def compute_synthetic_data(velocity_model):\n",
    "    x = np.array([[1,2],[2,3]])*velocity_model\n",
    "    return x"
   ]
  },
  {
   "cell_type": "code",
   "execution_count": 10,
   "metadata": {},
   "outputs": [],
   "source": [
    "# Forward modeling: generate synthetic data\n",
    "def forward_modeling(velocity_model):\n",
    "    synthetic_data = compute_synthetic_data(velocity_model)  # function to compute synthetic data\n",
    "    return synthetic_data"
   ]
  },
  {
   "cell_type": "code",
   "execution_count": 11,
   "metadata": {},
   "outputs": [],
   "source": [
    "# Inversion: minimize the difference between synthetic and observed data\n",
    "def inversion_objective(velocity_model):\n",
    "    synthetic_data = forward_modeling(velocity_model)\n",
    "    misfit = np.sum((seismic_data - synthetic_data)**2)\n",
    "    return misfit"
   ]
  },
  {
   "cell_type": "code",
   "execution_count": 12,
   "metadata": {},
   "outputs": [],
   "source": [
    "velocity_model_estimated = opt.minimize(inversion_objective, velocity_model_initial, method='L-BFGS-B')"
   ]
  },
  {
   "cell_type": "code",
   "execution_count": 13,
   "metadata": {},
   "outputs": [],
   "source": [
    "def analyze_results(velocity_model_estimated):\n",
    "    print('velocity_model_estimated',velocity_model_estimated)"
   ]
  },
  {
   "cell_type": "code",
   "execution_count": 14,
   "metadata": {},
   "outputs": [
    {
     "name": "stdout",
     "output_type": "stream",
     "text": [
      "velocity_model_estimated [6.00000069 7.69230762]\n"
     ]
    }
   ],
   "source": [
    "# Post-processing: analyze and visualize the results\n",
    "analyze_results(velocity_model_estimated.x)  # function to analyze results\n",
    "\n"
   ]
  }
 ],
 "metadata": {
  "kernelspec": {
   "display_name": "tfgpu",
   "language": "python",
   "name": "python3"
  },
  "language_info": {
   "codemirror_mode": {
    "name": "ipython",
    "version": 3
   },
   "file_extension": ".py",
   "mimetype": "text/x-python",
   "name": "python",
   "nbconvert_exporter": "python",
   "pygments_lexer": "ipython3",
   "version": "3.9.15"
  },
  "orig_nbformat": 4,
  "vscode": {
   "interpreter": {
    "hash": "bcb505fb65f009327e3568b030955b94ed789ec146fa5e9e6be7faa0a986839b"
   }
  }
 },
 "nbformat": 4,
 "nbformat_minor": 2
}
