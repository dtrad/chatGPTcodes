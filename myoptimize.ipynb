{
 "cells": [
  {
   "cell_type": "code",
   "execution_count": null,
   "metadata": {},
   "outputs": [],
   "source": [
    "import numpy as np\n",
    "from scipy.optimize import minimize\n",
    "\n",
    "# Define the function to minimize\n",
    "def objective_function(x):\n",
    "    return (x - 3)**2 + 4\n",
    "\n",
    "# Initial guess for x\n",
    "x0 = np.array([0])\n",
    "\n",
    "# Use scipy's minimize function\n",
    "result = minimize(objective_function, x0)\n",
    "\n",
    "# Print the result\n",
    "print(\"Optimal value of x:\", result.x)\n",
    "print(\"Minimum value of the objective function:\", result.fun)\n"
   ]
  },
  {
   "cell_type": "code",
   "execution_count": null,
   "metadata": {},
   "outputs": [],
   "source": [
    "import numpy as np\n",
    "import dask.array as da\n",
    "from scipy.optimize import minimize\n",
    "\n",
    "# Objective function to minimize\n",
    "def objective_function(x):\n",
    "    return da.sum((x - 2)**2).compute()  # Compute the Dask array to get a scalar result\n",
    "\n",
    "# Initial guess (Dask array)\n",
    "x0 = da.from_array(np.random.rand(1000), chunks=100)  # Split into chunks for Dask parallelism\n",
    "\n",
    "# Define a function wrapper for the optimizer that takes a NumPy array and returns a scalar\n",
    "def dask_minimize(x_numpy):\n",
    "    x_dask = da.from_array(x_numpy, chunks=100)  # Convert to Dask array\n",
    "    return objective_function(x_dask)\n",
    "\n",
    "# Run optimization using scipy.optimize.minimize\n",
    "result = minimize(dask_minimize, x0.compute())  # Use compute to get the initial guess as NumPy\n",
    "\n",
    "# Display the result\n",
    "print(\"Optimal value of x:\", result.x)\n",
    "print(\"Minimum value of the objective function:\", result.fun)\n"
   ]
  },
  {
   "cell_type": "code",
   "execution_count": null,
   "metadata": {},
   "outputs": [],
   "source": [
    "import numpy as np\n",
    "import dask.array as da\n",
    "from dask.distributed import Client\n",
    "from scipy.optimize import minimize\n",
    "\n",
    "# Start a Dask Client with 4 workers\n",
    "client = Client(n_workers=4)\n",
    "\n",
    "# Objective function to minimize\n",
    "def objective_function(x):\n",
    "    return da.sum((x - 2)**2).compute()  # Compute the Dask array to get a scalar result\n",
    "\n",
    "# Initial guess (Dask array)\n",
    "x0 = da.from_array(np.random.rand(1000), chunks=100)  # Split into chunks for Dask parallelism\n",
    "\n",
    "# Define a function wrapper for the optimizer that takes a NumPy array and returns a scalar\n",
    "def dask_minimize(x_numpy):\n",
    "    x_dask = da.from_array(x_numpy, chunks=100)  # Convert to Dask array\n",
    "    return objective_function(x_dask)\n",
    "\n",
    "# Run optimization using scipy.optimize.minimize\n",
    "result = minimize(dask_minimize, x0.compute())  # Use compute to get the initial guess as NumPy\n",
    "\n",
    "# Display the result\n",
    "print(\"Optimal value of x:\", result.x)\n",
    "print(\"Minimum value of the objective function:\", result.fun)\n",
    "\n",
    "# Close the client when done\n",
    "client.close()\n"
   ]
  }
 ],
 "metadata": {
  "kernelspec": {
   "display_name": "devito",
   "language": "python",
   "name": "python3"
  },
  "language_info": {
   "codemirror_mode": {
    "name": "ipython",
    "version": 3
   },
   "file_extension": ".py",
   "mimetype": "text/x-python",
   "name": "python",
   "nbconvert_exporter": "python",
   "pygments_lexer": "ipython3",
   "version": "3.12.5"
  }
 },
 "nbformat": 4,
 "nbformat_minor": 2
}
