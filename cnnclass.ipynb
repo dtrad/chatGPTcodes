{
 "cells": [
  {
   "cell_type": "code",
   "execution_count": 1,
   "metadata": {},
   "outputs": [],
   "source": [
    "import tensorflow as tf\n",
    "\n",
    "class CNN:\n",
    "  def __init__(self, input_shape, num_classes):\n",
    "    self.model = tf.keras.Sequential()\n",
    "    self.model.add(tf.keras.layers.Conv2D(32, (3,3), activation='relu', input_shape=input_shape))\n",
    "    self.model.add(tf.keras.layers.MaxPooling2D((2, 2)))\n",
    "    self.model.add(tf.keras.layers.Conv2D(64, (3,3), activation='relu'))\n",
    "    self.model.add(tf.keras.layers.MaxPooling2D((2, 2)))\n",
    "    self.model.add(tf.keras.layers.Flatten())\n",
    "    self.model.add(tf.keras.layers.Dense(128, activation='relu'))\n",
    "    self.model.add(tf.keras.layers.Dense(num_classes, activation='softmax'))\n",
    "\n",
    "  def compile(self, optimizer, loss, metrics):\n",
    "    self.model.compile(optimizer=optimizer, loss=loss, metrics=metrics)\n",
    "\n",
    "  def fit(self, x_train, y_train, batch_size, epochs):\n",
    "    self.model.fit(x_train, y_train, batch_size=batch_size, epochs=epochs)\n",
    "\n",
    "  def evaluate(self, x_test, y_test, batch_size):\n",
    "    return self.model.evaluate(x_test, y_test, batch_size=batch_size)\n"
   ]
  },
  {
   "cell_type": "code",
   "execution_count": 2,
   "metadata": {},
   "outputs": [
    {
     "name": "stdout",
     "output_type": "stream",
     "text": [
      "Epoch 1/5\n"
     ]
    },
    {
     "name": "stderr",
     "output_type": "stream",
     "text": [
      "2023-04-29 18:56:59.501603: W tensorflow/core/platform/profile_utils/cpu_utils.cc:128] Failed to get CPU frequency: 0 Hz\n"
     ]
    },
    {
     "name": "stdout",
     "output_type": "stream",
     "text": [
      "1875/1875 [==============================] - 10s 5ms/step - loss: 0.1263 - accuracy: 0.9607\n",
      "Epoch 2/5\n",
      "1875/1875 [==============================] - 11s 6ms/step - loss: 0.0424 - accuracy: 0.9868\n",
      "Epoch 3/5\n",
      "1875/1875 [==============================] - 11s 6ms/step - loss: 0.0294 - accuracy: 0.9907\n",
      "Epoch 4/5\n",
      "1875/1875 [==============================] - 11s 6ms/step - loss: 0.0209 - accuracy: 0.9937\n",
      "Epoch 5/5\n",
      "1875/1875 [==============================] - 11s 6ms/step - loss: 0.0149 - accuracy: 0.9952\n",
      "313/313 [==============================] - 1s 2ms/step - loss: 0.0279 - accuracy: 0.9923\n",
      "Test Accuracy:  0.9922999739646912\n"
     ]
    }
   ],
   "source": [
    "import numpy as np\n",
    "import tensorflow as tf\n",
    "\n",
    "# Load the MNIST dataset\n",
    "(x_train, y_train), (x_test, y_test) = tf.keras.datasets.mnist.load_data()\n",
    "\n",
    "# Preprocess the data\n",
    "x_train = x_train / 255.0\n",
    "x_test = x_test / 255.0\n",
    "x_train = np.expand_dims(x_train, axis=-1)\n",
    "x_test = np.expand_dims(x_test, axis=-1)\n",
    "\n",
    "# Initialize the CNN\n",
    "input_shape = (28, 28, 1)\n",
    "num_classes = 10\n",
    "cnn = CNN(input_shape, num_classes)\n",
    "\n",
    "# Compile the model\n",
    "cnn.compile(optimizer='adam', loss='sparse_categorical_crossentropy', metrics=['accuracy'])\n",
    "\n",
    "# Fit the model\n",
    "cnn.fit(x_train, y_train, batch_size=32, epochs=5)\n",
    "\n",
    "# Evaluate the model\n",
    "test_loss, test_acc = cnn.evaluate(x_test, y_test, batch_size=32)\n",
    "print('Test Accuracy: ', test_acc)\n"
   ]
  }
 ],
 "metadata": {
  "kernelspec": {
   "display_name": "tfgpu",
   "language": "python",
   "name": "python3"
  },
  "language_info": {
   "codemirror_mode": {
    "name": "ipython",
    "version": 3
   },
   "file_extension": ".py",
   "mimetype": "text/x-python",
   "name": "python",
   "nbconvert_exporter": "python",
   "pygments_lexer": "ipython3",
   "version": "3.10.10"
  },
  "orig_nbformat": 4,
  "vscode": {
   "interpreter": {
    "hash": "bcb505fb65f009327e3568b030955b94ed789ec146fa5e9e6be7faa0a986839b"
   }
  }
 },
 "nbformat": 4,
 "nbformat_minor": 2
}
