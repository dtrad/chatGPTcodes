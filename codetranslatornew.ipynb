{
 "cells": [
  {
   "cell_type": "code",
   "execution_count": 1,
   "metadata": {},
   "outputs": [],
   "source": [
    "import openai\n",
    "from openai import OpenAI\n",
    "import os\n",
    "# Set your OpenAI API key\n",
    "# You can replace os.environ.get(\"OPENAI_API_KEY\") with your actual key for testing, but do not hardcode it in production.\n",
    "client = OpenAI(api_key=os.environ.get(\"OPENAI_API_KEY\"))\n",
    "\n"
   ]
  },
  {
   "cell_type": "code",
   "execution_count": 5,
   "metadata": {},
   "outputs": [],
   "source": [
    "def translate_code(input_code, source_language, target_language):\n",
    "    \"\"\"\n",
    "    Translates code from one programming language to another using OpenAI's updated API.\n",
    "\n",
    "    Args:\n",
    "        input_code (str): The code to translate.\n",
    "        source_language (str): The language of the input code (e.g., 'Python').\n",
    "        target_language (str): The desired output language (e.g., 'C++').\n",
    "\n",
    "    Returns:\n",
    "        str: Translated code.\n",
    "    \"\"\"\n",
    "    prompt = (\n",
    "        f\"Translate the following {source_language} code into {target_language}:\\n\\n\"\n",
    "        f\"{input_code}\\n\\n\"\n",
    "        \"Ensure that the translation is accurate, idiomatic, and uses best practices for the target language.\"\n",
    "    )\n",
    "    \n",
    "    try:\n",
    "        response = client.chat.completions.create(\n",
    "            model=\"gpt-4\",  # Ensure you're using the correct model\n",
    "            messages=[\n",
    "                {\"role\": \"system\", \"content\": \"You are an expert coding assistant.\"},\n",
    "                {\"role\": \"user\", \"content\": prompt}\n",
    "            ],\n",
    "            temperature=0.2,  # Low temperature for deterministic outputs\n",
    "        )\n",
    "        # Extract the assistant's reply\n",
    "        translated_code = response.choices[0].message.content.strip()\n",
    "        return translated_code\n",
    "    except openai.error.OpenAIError as e:\n",
    "        return f\"OpenAI API Error: {e}\"\n",
    "    except Exception as e:\n",
    "        return f\"Error: {e}\"\n"
   ]
  },
  {
   "cell_type": "code",
   "execution_count": 8,
   "metadata": {},
   "outputs": [
    {
     "name": "stdout",
     "output_type": "stream",
     "text": [
      "Translated Code:\n",
      " Here is the equivalent C++ code:\n",
      "\n",
      "```cpp\n",
      "#include <string>\n",
      "\n",
      "std::string greet(const std::string& name) {\n",
      "    return \"Hello, \" + name + \"!\";\n",
      "}\n",
      "```\n",
      "\n",
      "In this C++ code, we define a function `greet` that takes a `std::string` reference as an argument and returns a `std::string`. The function concatenates \"Hello, \" with the input `name` and \"!\" to create the greeting. The `const` keyword is used to ensure that the input string `name` is not modified within the function.\n"
     ]
    }
   ],
   "source": [
    "# Example: Translating Python code to JavaScript\n",
    "python_code = \"\"\"\n",
    "def greet(name):\n",
    "    return f\"Hello, {name}!\"\n",
    "\"\"\"\n",
    "\n",
    "translated_cpp_code = translate_code(python_code, \"Python\", \"C++\")\n",
    "print(\"Translated Code:\\n\", translated_cpp_code)\n"
   ]
  },
  {
   "cell_type": "code",
   "execution_count": 10,
   "metadata": {},
   "outputs": [],
   "source": [
    "def translate_file(input_file_path, output_file_path, source_language, target_language):\n",
    "    \"\"\"\n",
    "    Reads code from a file, translates it to another language, and writes the output to another file.\n",
    "\n",
    "    Args:\n",
    "        input_file_path (str): Path to the file containing the source code.\n",
    "        output_file_path (str): Path to the file where the translated code will be written.\n",
    "        source_language (str): Language of the source code (e.g., 'Python').\n",
    "        target_language (str): Desired target language (e.g., 'JavaScript').\n",
    "\n",
    "    Returns:\n",
    "        None\n",
    "    \"\"\"\n",
    "    try:\n",
    "        # Read input file\n",
    "        with open(input_file_path, 'r') as infile:\n",
    "            input_code = infile.read()\n",
    "        \n",
    "        # Translate the code\n",
    "        translated_code = translate_code(input_code, source_language, target_language)\n",
    "        \n",
    "        # Write the translated code to the output file\n",
    "        with open(output_file_path, 'w') as outfile:\n",
    "            outfile.write(translated_code)\n",
    "        \n",
    "        print(f\"Translation completed. Output written to {output_file_path}.\")\n",
    "    except FileNotFoundError:\n",
    "        print(f\"Error: The file {input_file_path} was not found.\")\n",
    "    except Exception as e:\n",
    "        print(f\"An error occurred: {e}\")\n"
   ]
  },
  {
   "cell_type": "code",
   "execution_count": 21,
   "metadata": {},
   "outputs": [],
   "source": [
    "source_file = \"source_code.py\"  # Replace with your source file path\n",
    "# create a simple python file to test the code\n",
    "source_code = \"\"\"\n",
    "def greet(name):\n",
    "    return f\"Hello, {name}!\"\n",
    "greet(\"Alice\")\n",
    "\"\"\"\n",
    "# save to file\n",
    "with open(source_file, \"w\") as file:\n",
    "    file.write(source_code)\n",
    "    "
   ]
  },
  {
   "cell_type": "code",
   "execution_count": 22,
   "metadata": {},
   "outputs": [
    {
     "name": "stdout",
     "output_type": "stream",
     "text": [
      "Translation completed. Output written to translated_code.cpp.\n"
     ]
    }
   ],
   "source": [
    "# Example usage\n",
    "\n",
    "output_file = \"translated_code.cpp\"  # Replace with your desired output file path\n",
    "source_language = \"Python\"  # Specify the source language\n",
    "target_language = \"C++\"  # Specify the target language\n",
    "\n",
    "translate_file(source_file, output_file, source_language, target_language)\n"
   ]
  },
  {
   "cell_type": "code",
   "execution_count": 23,
   "metadata": {},
   "outputs": [
    {
     "name": "stdout",
     "output_type": "stream",
     "text": [
      "Here is the equivalent C++ code for your Python function:\n",
      "\n",
      "```cpp\n",
      "#include <iostream>\n",
      "#include <string>\n",
      "\n",
      "std::string greet(const std::string& name) {\n",
      "    return \"Hello, \" + name + \"!\";\n",
      "}\n",
      "\n",
      "int main() {\n",
      "    std::cout << greet(\"Alice\");\n",
      "    return 0;\n",
      "}\n",
      "```\n",
      "\n",
      "This C++ code does the same thing as your Python code. It defines a function `greet` that takes a string `name` and returns a greeting string. Then it calls this function with the argument \"Alice\" and prints the result.\n"
     ]
    }
   ],
   "source": [
    "# print the file output_file\n",
    "with open(output_file, \"r\") as file:\n",
    "    print(file.read())"
   ]
  },
  {
   "cell_type": "code",
   "execution_count": 24,
   "metadata": {},
   "outputs": [
    {
     "name": "stdout",
     "output_type": "stream",
     "text": [
      "Cleaned output file: translated_code.cpp\n"
     ]
    }
   ],
   "source": [
    "# eliminate from the output file everything that is before and after the \"```\"\n",
    "def clean_output_file(output_file):\n",
    "    with open(output_file, \"r\") as file:\n",
    "        lines = file.readlines()\n",
    "    start_index = None\n",
    "    end_index = None\n",
    "    for i, line in enumerate(lines):\n",
    "        if \"```\" in line:\n",
    "            if start_index is None:\n",
    "                start_index = i\n",
    "            else:\n",
    "                end_index = i\n",
    "                break\n",
    "    if start_index is not None:\n",
    "        cleaned_lines = lines[start_index + 1:end_index]\n",
    "        with open(output_file, \"w\") as file:\n",
    "            file.writelines(cleaned_lines)\n",
    "        print(f\"Cleaned output file: {output_file}\")\n",
    "    else:\n",
    "        print(\"No code block found in the output file.\")\n",
    "\n",
    "clean_output_file(output_file)\n"
   ]
  },
  {
   "cell_type": "code",
   "execution_count": 25,
   "metadata": {},
   "outputs": [
    {
     "name": "stdout",
     "output_type": "stream",
     "text": [
      "#include <iostream>\n",
      "#include <string>\n",
      "\n",
      "std::string greet(const std::string& name) {\n",
      "    return \"Hello, \" + name + \"!\";\n",
      "}\n",
      "\n",
      "int main() {\n",
      "    std::cout << greet(\"Alice\");\n",
      "    return 0;\n",
      "}\n",
      "\n"
     ]
    }
   ],
   "source": [
    "# print the file output_file\n",
    "with open(output_file, \"r\") as file:\n",
    "    print(file.read())"
   ]
  },
  {
   "cell_type": "code",
   "execution_count": null,
   "metadata": {},
   "outputs": [],
   "source": []
  }
 ],
 "metadata": {
  "kernelspec": {
   "display_name": "genai",
   "language": "python",
   "name": "python3"
  },
  "language_info": {
   "codemirror_mode": {
    "name": "ipython",
    "version": 3
   },
   "file_extension": ".py",
   "mimetype": "text/x-python",
   "name": "python",
   "nbconvert_exporter": "python",
   "pygments_lexer": "ipython3",
   "version": "3.12.4"
  }
 },
 "nbformat": 4,
 "nbformat_minor": 2
}
