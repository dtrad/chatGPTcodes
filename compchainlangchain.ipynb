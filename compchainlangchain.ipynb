{
 "cells": [
  {
   "cell_type": "code",
   "execution_count": 1,
   "metadata": {},
   "outputs": [],
   "source": [
    "import openai\n",
    "from openai import OpenAI\n",
    "import os\n",
    "# Set your OpenAI API key\n",
    "# You can replace os.environ.get(\"OPENAI_API_KEY\") with your actual key for testing, but do not hardcode it in production.\n",
    "client = OpenAI(api_key=os.environ.get(\"OPENAI_API_KEY\"))\n"
   ]
  },
  {
   "cell_type": "markdown",
   "metadata": {},
   "source": [
    "# Example: no langchain"
   ]
  },
  {
   "cell_type": "code",
   "execution_count": 6,
   "metadata": {},
   "outputs": [
    {
     "name": "stdout",
     "output_type": "stream",
     "text": [
      "#include<iostream>\n",
      "\n",
      "int main() {\n",
      "    std::cout << \"Hello\";\n",
      "    return 0;\n",
      "}\n"
     ]
    }
   ],
   "source": [
    "import openai\n",
    "\n",
    "response = client.chat.completions.create(\n",
    "    model=\"gpt-4\",\n",
    "    messages=[{\"role\": \"user\", \"content\": \"Translate Python to C++: print('Hello')\"}]\n",
    ")\n",
    "print(response.choices[0].message.content)\n"
   ]
  },
  {
   "cell_type": "code",
   "execution_count": 8,
   "metadata": {},
   "outputs": [
    {
     "name": "stdout",
     "output_type": "stream",
     "text": [
      "#include<iostream>\n",
      "\n",
      "int main() {\n",
      "    std::cout << \"Hello\";\n",
      "    return 0;\n",
      "}\n"
     ]
    }
   ],
   "source": [
    "from langchain.chains import LLMChain\n",
    "from langchain.chat_models import ChatOpenAI\n",
    "from langchain.prompts.chat import ChatPromptTemplate\n",
    "\n",
    "# Define the prompt and model\n",
    "chat = ChatOpenAI(model=\"gpt-4\")\n",
    "prompt = ChatPromptTemplate.from_template(\"Translate Python to C++: {code}\")\n",
    "\n",
    "# Create a single-step chain\n",
    "chain = LLMChain(llm=chat, prompt=prompt)\n",
    "\n",
    "# Run the chain\n",
    "translated_code = chain.run(code=\"print('Hello')\")\n",
    "print(translated_code)\n"
   ]
  },
  {
   "cell_type": "code",
   "execution_count": 12,
   "metadata": {},
   "outputs": [
    {
     "name": "stdout",
     "output_type": "stream",
     "text": [
      "This C++ code outputs the word \"Hello\" to the console. When this program is run, \"Hello\" will be printed to the console and then the program will exit with a status code of 0 (indicating successful execution). \n",
      "\n",
      "Here is a breakdown of the code:\n",
      "\n",
      "- `#include <iostream>`: This line includes the iostream standard library, which allows for input/output operations. In this case, it's needed for the std::cout statement.\n",
      "- `int main() {}`: This is the main function where program execution begins.\n",
      "- `std::cout << \"Hello\";`: This line outputs the text \"Hello\" to the console. std::cout is the standard output stream in C++, and the << operator is used to send data to it.\n",
      "- `return 0;`: This line indicates that the program has executed successfully. The return statement ends the main function and returns the value 0.\n"
     ]
    }
   ],
   "source": [
    "from langchain.chains import SimpleSequentialChain\n",
    "from langchain.prompts.chat import ChatPromptTemplate\n",
    "\n",
    "# Step 1: Translation chain\n",
    "translate_prompt = ChatPromptTemplate.from_template(\"Translate Python to C++: {code}\")\n",
    "translate_chain = LLMChain(llm=chat, prompt=translate_prompt)\n",
    "\n",
    "# Step 2: Code explanation chain\n",
    "explain_prompt = ChatPromptTemplate.from_template(\"Explain what this C++ code does: {translated_code}\")\n",
    "explain_chain = LLMChain(llm=chat, prompt=explain_prompt)\n",
    "\n",
    "# Combine steps into a multi-step chain\n",
    "multi_step_chain = SimpleSequentialChain(chains=[translate_chain, explain_chain])\n",
    "\n",
    "# Run the multi-step chain\n",
    "output = multi_step_chain.run(input=\"print('Hello')\")\n",
    "print(output)\n"
   ]
  }
 ],
 "metadata": {
  "kernelspec": {
   "display_name": "langchain0",
   "language": "python",
   "name": "python3"
  },
  "language_info": {
   "codemirror_mode": {
    "name": "ipython",
    "version": 3
   },
   "file_extension": ".py",
   "mimetype": "text/x-python",
   "name": "python",
   "nbconvert_exporter": "python",
   "pygments_lexer": "ipython3",
   "version": "3.12.5"
  }
 },
 "nbformat": 4,
 "nbformat_minor": 2
}
